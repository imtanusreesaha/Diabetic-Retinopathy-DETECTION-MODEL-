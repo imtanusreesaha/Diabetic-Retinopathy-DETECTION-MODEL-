{
 "cells": [
  {
   "cell_type": "markdown",
   "id": "d5d8c4a4",
   "metadata": {
    "papermill": {
     "duration": 0.04474,
     "end_time": "2024-07-27T16:20:17.612160",
     "exception": false,
     "start_time": "2024-07-27T16:20:17.567420",
     "status": "completed"
    },
    "tags": []
   },
   "source": [
    "# Diabetic Retinopathy \n",
    "\n",
    "Diabetic retinopathy (DR), also known as diabetic eye disease, is a medical condition in which damage occurs to the retina due to diabetes mellitus. It is a leading cause of blindness. Diabetic retinopathy affects up to 80 percent of those who have had diabetes for 20 years or more. Diabetic retinopathy often has no early warning signs. **Retinal (fundus) photography with manual interpretation is a widely accepted screening tool for diabetic retinopathy**, with performance that can exceed that of in-person dilated eye examinations. \n",
    "\n",
    "The below figure shows an example of a healthy patient and a patient with diabetic retinopathy as viewed by fundus photography ([source](https://www.biorxiv.org/content/biorxiv/early/2018/06/19/225508.full.pdf)):\n",
    "\n",
    "![image.png](data:image/jpeg;base64,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)\n",
    "\n",
    "An automated tool for grading severity of diabetic retinopathy would be very useful for accerelating detection and treatment. Recently, there have been a number of attempts to utilize deep learning to diagnose DR and automatically grade diabetic retinopathy. This includes this [competition](https://kaggle.com/c/diabetic-retinopathy-detection) and [work by Google](https://ai.googleblog.com/2016/11/deep-learning-for-detection-of-diabetic.html). Even one deep-learning based system is [FDA approved](https://www.fda.gov/NewsEvents/Newsroom/PressAnnouncements/ucm604357.htm). \n",
    "\n",
    "Clearly, this dataset and deep learning problem is quite well-characterized. \n",
    "\n",
    "# A look at the data:\n",
    "\n",
    "Data description from the competition:\n",
    "\n",
    ">You are provided with a large set of high-resolution retina images taken under a variety of imaging conditions. A left and right field is provided for every subject. >Images are labeled with a subject id as well as either left or right (e.g. 1_left.jpeg is the left eye of patient id 1).\n",
    ">\n",
    ">A clinician has rated the presence of diabetic retinopathy in each image on a scale of 0 to 4, according to the following scale:\n",
    ">\n",
    ">0 - No DR\n",
    ">\n",
    ">1 - Mild\n",
    ">\n",
    ">2 - Moderate\n",
    ">\n",
    ">3 - Severe\n",
    ">\n",
    ">4 - Proliferative DR\n",
    ">\n",
    ">Your task is to create an automated analysis system capable of assigning a score based on this scale.\n",
    "\n",
    "...\n",
    "\n",
    "> Like any real-world data set, you will encounter noise in both the images and labels. Images may contain artifacts, be out of focus, underexposed, or overexposed. A major aim of this competition is to develop robust algorithms that can function in the presence of noise and variation.\n",
    "\n",
    "**A minor problem!**\n",
    "\n",
    "Due to the large image file size, there are **only 1000 files with labels** and one csv file with the labels of all the images in the directory available in the kernel, as demonstrated below. The actual competition had on the order of 35,000 files so this is clearly **a very small subset of the data**. \n",
    "In addition, this is a highly imbalanced dataset. \n",
    "\n",
    "Originally, I had aimed to create a model that would be close to the SOTA, but clearly, with only 1000 images that's not possible.\n",
    "\n",
    "**AIM OF KERNEL:** I will utilize transfer learning, oversampling, and progressive resizing on this small, imbalanced dataset.\n",
    "Given that many real-world datasets are also small and imbalanced, it will be interesting to see how far these techniques will take us."
   ]
  },
  {
   "cell_type": "code",
   "execution_count": 1,
   "id": "6417c8fc",
   "metadata": {
    "execution": {
     "iopub.execute_input": "2024-07-27T16:20:17.718313Z",
     "iopub.status.busy": "2024-07-27T16:20:17.716995Z",
     "iopub.status.idle": "2024-07-27T16:20:25.278835Z",
     "shell.execute_reply": "2024-07-27T16:20:25.279470Z",
     "shell.execute_reply.started": "2024-07-27T14:20:11.409496Z"
    },
    "papermill": {
     "duration": 7.623917,
     "end_time": "2024-07-27T16:20:25.279795",
     "exception": false,
     "start_time": "2024-07-27T16:20:17.655878",
     "status": "completed"
    },
    "tags": []
   },
   "outputs": [
    {
     "name": "stdout",
     "output_type": "stream",
     "text": [
      "All modules have been imported\n"
     ]
    }
   ],
   "source": [
    "import numpy as np\n",
    "import matplotlib.pyplot as plt\n",
    "import tensorflow as tf\n",
    "# from keras.preprocessing.image import img_to_array\n",
    "# from keras.preprocessing.image import array_to_img\n",
    "# from sklearn.model_selection import train_test_split\n",
    "# from PIL import Image\n",
    "# import scipy\n",
    "\n",
    "import tensorflow as tf\n",
    "from tensorflow.keras.applications import *\n",
    "from tensorflow.keras.optimizers import *\n",
    "from tensorflow.keras.losses import *\n",
    "from tensorflow.keras.layers import *\n",
    "from tensorflow.keras.models import *\n",
    "from tensorflow.keras.callbacks import *\n",
    "from tensorflow.keras.preprocessing.image import *\n",
    "from tensorflow.keras.utils import *\n",
    "# import pydot\n",
    "from sklearn.metrics import *\n",
    "from sklearn.model_selection import *\n",
    "import tensorflow.keras.backend as K\n",
    "\n",
    "# from tqdm import tqdm, tqdm_notebook\n",
    "# from colorama import Fore\n",
    "# import json\n",
    "import matplotlib.pyplot as plt\n",
    "import seaborn as sns\n",
    "from glob import glob\n",
    "from skimage.io import *\n",
    "%config Completer.use_jedi = False\n",
    "# import time\n",
    "# from sklearn.decomposition import PCA\n",
    "# from sklearn.svm import LinearSVC\n",
    "# from sklearn.linear_model import LogisticRegression\n",
    "# from sklearn.metrics import accuracy_score\n",
    "# import lightgbm as lgb\n",
    "# import xgboost as xgb\n",
    "# !pip install livelossplot\n",
    "# import livelossplot\n",
    "# from livelossplot import PlotLossesKeras\n",
    "import warnings\n",
    "warnings.filterwarnings('ignore')\n",
    "print(\"All modules have been imported\")"
   ]
  },
  {
   "cell_type": "code",
   "execution_count": 2,
   "id": "13ea8601",
   "metadata": {
    "execution": {
     "iopub.execute_input": "2024-07-27T16:20:25.375289Z",
     "iopub.status.busy": "2024-07-27T16:20:25.374581Z",
     "iopub.status.idle": "2024-07-27T16:20:26.517678Z",
     "shell.execute_reply": "2024-07-27T16:20:26.516985Z",
     "shell.execute_reply.started": "2024-07-27T14:20:11.435599Z"
    },
    "papermill": {
     "duration": 1.193266,
     "end_time": "2024-07-27T16:20:26.517843",
     "exception": false,
     "start_time": "2024-07-27T16:20:25.324577",
     "status": "completed"
    },
    "tags": []
   },
   "outputs": [
    {
     "name": "stdout",
     "output_type": "stream",
     "text": [
      "Archive:  ../input/diabetic-retinopathy-detection/trainLabels.csv.zip\r\n",
      "  inflating: trainLabels.csv         \r\n"
     ]
    }
   ],
   "source": [
    "!unzip ../input/diabetic-retinopathy-detection/trainLabels.csv.zip"
   ]
  },
  {
   "cell_type": "markdown",
   "id": "e3b15e29",
   "metadata": {
    "papermill": {
     "duration": 0.044199,
     "end_time": "2024-07-27T16:20:26.610625",
     "exception": false,
     "start_time": "2024-07-27T16:20:26.566426",
     "status": "completed"
    },
    "tags": []
   },
   "source": [
    "## Importing labels"
   ]
  },
  {
   "cell_type": "code",
   "execution_count": 3,
   "id": "0cca301a",
   "metadata": {
    "execution": {
     "iopub.execute_input": "2024-07-27T16:20:26.709629Z",
     "iopub.status.busy": "2024-07-27T16:20:26.708266Z",
     "iopub.status.idle": "2024-07-27T16:20:26.742860Z",
     "shell.execute_reply": "2024-07-27T16:20:26.742175Z",
     "shell.execute_reply.started": "2024-07-27T14:20:12.559257Z"
    },
    "papermill": {
     "duration": 0.087869,
     "end_time": "2024-07-27T16:20:26.743033",
     "exception": false,
     "start_time": "2024-07-27T16:20:26.655164",
     "status": "completed"
    },
    "tags": []
   },
   "outputs": [],
   "source": [
    "import pandas as pd\n",
    "\n",
    "trainLabels = pd.read_csv(\"./trainLabels.csv\")"
   ]
  },
  {
   "cell_type": "code",
   "execution_count": 4,
   "id": "e3059fed",
   "metadata": {
    "execution": {
     "iopub.execute_input": "2024-07-27T16:20:26.842863Z",
     "iopub.status.busy": "2024-07-27T16:20:26.841658Z",
     "iopub.status.idle": "2024-07-27T16:20:52.753104Z",
     "shell.execute_reply": "2024-07-27T16:20:52.752464Z",
     "shell.execute_reply.started": "2024-07-27T14:20:12.598919Z"
    },
    "papermill": {
     "duration": 25.965139,
     "end_time": "2024-07-27T16:20:52.753256",
     "exception": false,
     "start_time": "2024-07-27T16:20:26.788117",
     "status": "completed"
    },
    "tags": []
   },
   "outputs": [
    {
     "name": "stdout",
     "output_type": "stream",
     "text": [
      "\r\n",
      "\r\n",
      "\r\n",
      "The following additional packages will be installed:\r\n",
      "  p7zip\r\n",
      "Suggested packages:\r\n",
      "  p7zip-rar\r\n",
      "The following NEW packages will be installed:\r\n",
      "  p7zip p7zip-full\r\n",
      "0 upgraded, 2 newly installed, 0 to remove and 42 not upgraded.\r\n",
      "Need to get 1545 kB of archives.\r\n",
      "After this operation, 5896 kB of additional disk space will be used.\r\n",
      "Get:1 http://archive.ubuntu.com/ubuntu focal/universe amd64 p7zip amd64 16.02+dfsg-7build1 [358 kB]\r\n",
      "Get:2 http://archive.ubuntu.com/ubuntu focal/universe amd64 p7zip-full amd64 16.02+dfsg-7build1 [1187 kB]\r\n",
      "Fetched 1545 kB in 0s (5825 kB/s)\r\n",
      "\n",
      "\u001b7\u001b[0;23r\u001b8\u001b[1ASelecting previously unselected package p7zip.\r\n",
      "(Reading database ... 103272 files and directories currently installed.)\r\n",
      "Preparing to unpack .../p7zip_16.02+dfsg-7build1_amd64.deb ...\r\n",
      "\u001b7\u001b[24;0f\u001b[42m\u001b[30mProgress: [  0%]\u001b[49m\u001b[39m [..........................................................] \u001b8\u001b7\u001b[24;0f\u001b[42m\u001b[30mProgress: [ 11%]\u001b[49m\u001b[39m [######....................................................] \u001b8Unpacking p7zip (16.02+dfsg-7build1) ...\r\n",
      "\u001b7\u001b[24;0f\u001b[42m\u001b[30mProgress: [ 22%]\u001b[49m\u001b[39m [############..............................................] \u001b8Selecting previously unselected package p7zip-full.\r\n",
      "Preparing to unpack .../p7zip-full_16.02+dfsg-7build1_amd64.deb ...\r\n",
      "\u001b7\u001b[24;0f\u001b[42m\u001b[30mProgress: [ 33%]\u001b[49m\u001b[39m [###################.......................................] \u001b8Unpacking p7zip-full (16.02+dfsg-7build1) ...\r\n",
      "\u001b7\u001b[24;0f\u001b[42m\u001b[30mProgress: [ 44%]\u001b[49m\u001b[39m [#########################.................................] \u001b8Setting up p7zip (16.02+dfsg-7build1) ...\r\n",
      "\u001b7\u001b[24;0f\u001b[42m\u001b[30mProgress: [ 56%]\u001b[49m\u001b[39m [################################..........................] \u001b8\u001b7\u001b[24;0f\u001b[42m\u001b[30mProgress: [ 67%]\u001b[49m\u001b[39m [######################################....................] \u001b8Setting up p7zip-full (16.02+dfsg-7build1) ...\r\n",
      "\u001b7\u001b[24;0f\u001b[42m\u001b[30mProgress: [ 78%]\u001b[49m\u001b[39m [#############################################.............] \u001b8\u001b7\u001b[24;0f\u001b[42m\u001b[30mProgress: [ 89%]\u001b[49m\u001b[39m [###################################################.......] \u001b8Processing triggers for man-db (2.9.1-1) ...\r\n",
      "\r\n",
      "\u001b7\u001b[0;24r\u001b8\u001b[1A\u001b[J\r\n",
      "7-Zip [64] 16.02 : Copyright (c) 1999-2016 Igor Pavlov : 2016-05-21\r\n",
      "p7zip Version 16.02 (locale=C.UTF-8,Utf16=on,HugeFiles=on,64 bits,4 CPUs Intel(R) Xeon(R) CPU @ 2.00GHz (50653),ASM,AES-NI)\r\n",
      "\r\n",
      "Scanning the drive for archives:\r\n",
      "  0M Scan ../input/diabetic-retinopathy-detection/\b\b\b\b\b\b\b\b\b\b\b\b\b\b\b\b\b\b\b\b\b\b\b\b\b\b\b\b\b\b\b\b\b\b\b\b\b\b\b\b\b\b\b\b\b\b\b\b\b\b                                                  \b\b\b\b\b\b\b\b\b\b\b\b\b\b\b\b\b\b\b\b\b\b\b\b\b\b\b\b\b\b\b\b\b\b\b\b\b\b\b\b\b\b\b\b\b\b\b\b\b\b1 file, 8388608000 bytes (8000 MiB)\r\n",
      "\r\n",
      "Extracting archive: ../input/diabetic-retinopathy-detection/train.zip.001\r\n",
      "  0% 1 Open\b\b\b\b\b\b\b\b\b\b\b           \b\b\b\b\b\b\b\b\b\b\b--\r\n",
      "Path = ../input/diabetic-retinopathy-detection/train.zip.001\r\n",
      "Type = Split\r\n",
      "Physical Size = 8388608000\r\n",
      "Volumes = 5\r\n",
      "Total Physical Size = 34988445506\r\n",
      "----\r\n",
      "Path = train.zip\r\n",
      "Size = 34988445506\r\n",
      "--\r\n",
      "Path = train.zip\r\n",
      "Type = zip\r\n",
      "Physical Size = 34988445506\r\n",
      "64-bit = +\r\n",
      "\r\n",
      "  0%\b\b\b\b    \b\b\b\b  0% 8 - train/1100_left.jpeg\b\b\b\b\b\b\b\b\b\b\b\b\b\b\b\b\b\b\b\b\b\b\b\b\b\b\b\b\b                             \b\b\b\b\b\b\b\b\b\b\b\b\b\b\b\b\b\b\b\b\b\b\b\b\b\b\b\b\b  2% 17 - train/11026_right.jpeg\b\b\b\b\b\b\b\b\b\b\b\b\b\b\b\b\b\b\b\b\b\b\b\b\b\b\b\b\b\b\b\b                                \b\b\b\b\b\b\b\b\b\b\b\b\b\b\b\b\b\b\b\b\b\b\b\b\b\b\b\b\b\b\b\b  3% 28 - train/11040_left.jpeg\b\b\b\b\b\b\b\b\b\b\b\b\b\b\b\b\b\b\b\b\b\b\b\b\b\b\b\b\b\b\b                               \b\b\b\b\b\b\b\b\b\b\b\b\b\b\b\b\b\b\b\b\b\b\b\b\b\b\b\b\b\b\b  4% 36 - train/11049_left.jpeg\b\b\b\b\b\b\b\b\b\b\b\b\b\b\b\b\b\b\b\b\b\b\b\b\b\b\b\b\b\b\b                               \b\b\b\b\b\b\b\b\b\b\b\b\b\b\b\b\b\b\b\b\b\b\b\b\b\b\b\b\b\b\b  6% 49 - train/11058_right.jpeg\b\b\b\b\b\b\b\b\b\b\b\b\b\b\b\b\b\b\b\b\b\b\b\b\b\b\b\b\b\b\b\b                                \b\b\b\b\b\b\b\b\b\b\b\b\b\b\b\b\b\b\b\b\b\b\b\b\b\b\b\b\b\b\b\b  7% 60 - train/11080_left.jpeg\b\b\b\b\b\b\b\b\b\b\b\b\b\b\b\b\b\b\b\b\b\b\b\b\b\b\b\b\b\b\b                               \b\b\b\b\b\b\b\b\b\b\b\b\b\b\b\b\b\b\b\b\b\b\b\b\b\b\b\b\b\b\b  8% 71 - train/11091_right.jpeg\b\b\b\b\b\b\b\b\b\b\b\b\b\b\b\b\b\b\b\b\b\b\b\b\b\b\b\b\b\b\b\b                                \b\b\b\b\b\b\b\b\b\b\b\b\b\b\b\b\b\b\b\b\b\b\b\b\b\b\b\b\b\b\b\b  9% 80 - train/11101_left.jpeg\b\b\b\b\b\b\b\b\b\b\b\b\b\b\b\b\b\b\b\b\b\b\b\b\b\b\b\b\b\b\b                               \b\b\b\b\b\b\b\b\b\b\b\b\b\b\b\b\b\b\b\b\b\b\b\b\b\b\b\b\b\b\b 11% 96 - train/11120_left.jpeg\b\b\b\b\b\b\b\b\b\b\b\b\b\b\b\b\b\b\b\b\b\b\b\b\b\b\b\b\b\b\b                               \b\b\b\b\b\b\b\b\b\b\b\b\b\b\b\b\b\b\b\b\b\b\b\b\b\b\b\b\b\b\b 12% 110 - train/11129_left.jpeg\b\b\b\b\b\b\b\b\b\b\b\b\b\b\b\b\b\b\b\b\b\b\b\b\b\b\b\b\b\b\b\b                                \b\b\b\b\b\b\b\b\b\b\b\b\b\b\b\b\b\b\b\b\b\b\b\b\b\b\b\b\b\b\b\b 13% 122 - train/11142_left.jpeg\b\b\b\b\b\b\b\b\b\b\b\b\b\b\b\b\b\b\b\b\b\b\b\b\b\b\b\b\b\b\b\b                                \b\b\b\b\b\b\b\b\b\b\b\b\b\b\b\b\b\b\b\b\b\b\b\b\b\b\b\b\b\b\b\b 14% 130 - train/11152_left.jpeg\b\b\b\b\b\b\b\b\b\b\b\b\b\b\b\b\b\b\b\b\b\b\b\b\b\b\b\b\b\b\b\b                                \b\b\b\b\b\b\b\b\b\b\b\b\b\b\b\b\b\b\b\b\b\b\b\b\b\b\b\b\b\b\b\b 16% 140 - train/11158_left.jpeg\b\b\b\b\b\b\b\b\b\b\b\b\b\b\b\b\b\b\b\b\b\b\b\b\b\b\b\b\b\b\b\b                                \b\b\b\b\b\b\b\b\b\b\b\b\b\b\b\b\b\b\b\b\b\b\b\b\b\b\b\b\b\b\b\b 17% 155 - train/11169_right.jpeg\b\b\b\b\b\b\b\b\b\b\b\b\b\b\b\b\b\b\b\b\b\b\b\b\b\b\b\b\b\b\b\b\b                                 \b\b\b\b\b\b\b\b\b\b\b\b\b\b\b\b\b\b\b\b\b\b\b\b\b\b\b\b\b\b\b\b\b 18% 166 - train/11182_left.jpeg\b\b\b\b\b\b\b\b\b\b\b\b\b\b\b\b\b\b\b\b\b\b\b\b\b\b\b\b\b\b\b\b                                \b\b\b\b\b\b\b\b\b\b\b\b\b\b\b\b\b\b\b\b\b\b\b\b\b\b\b\b\b\b\b\b 20% 185 - train/111_right.jpeg\b\b\b\b\b\b\b\b\b\b\b\b\b\b\b\b\b\b\b\b\b\b\b\b\b\b\b\b\b\b\b                               \b\b\b\b\b\b\b\b\b\b\b\b\b\b\b\b\b\b\b\b\b\b\b\b\b\b\b\b\b\b\b 21% 198 - train/11211_left.jpeg\b\b\b\b\b\b\b\b\b\b\b\b\b\b\b\b\b\b\b\b\b\b\b\b\b\b\b\b\b\b\b\b                                \b\b\b\b\b\b\b\b\b\b\b\b\b\b\b\b\b\b\b\b\b\b\b\b\b\b\b\b\b\b\b\b 22% 208 - train/11222_left.jpeg\b\b\b\b\b\b\b\b\b\b\b\b\b\b\b\b\b\b\b\b\b\b\b\b\b\b\b\b\b\b\b\b                                \b\b\b\b\b\b\b\b\b\b\b\b\b\b\b\b\b\b\b\b\b\b\b\b\b\b\b\b\b\b\b\b 24% 218 - train/11232_left.jpeg\b\b\b\b\b\b\b\b\b\b\b\b\b\b\b\b\b\b\b\b\b\b\b\b\b\b\b\b\b\b\b\b                                \b\b\b\b\b\b\b\b\b\b\b\b\b\b\b\b\b\b\b\b\b\b\b\b\b\b\b\b\b\b\b\b 25% 226 - train/11241_left.jpeg\b\b\b\b\b\b\b\b\b\b\b\b\b\b\b\b\b\b\b\b\b\b\b\b\b\b\b\b\b\b\b\b                                \b\b\b\b\b\b\b\b\b\b\b\b\b\b\b\b\b\b\b\b\b\b\b\b\b\b\b\b\b\b\b\b 26% 236 - train/11249_left.jpeg\b\b\b\b\b\b\b\b\b\b\b\b\b\b\b\b\b\b\b\b\b\b\b\b\b\b\b\b\b\b\b\b                                \b\b\b\b\b\b\b\b\b\b\b\b\b\b\b\b\b\b\b\b\b\b\b\b\b\b\b\b\b\b\b\b 27% 247 - train/11267_right.jpeg\b\b\b\b\b\b\b\b\b\b\b\b\b\b\b\b\b\b\b\b\b\b\b\b\b\b\b\b\b\b\b\b\b                                 \b\b\b\b\b\b\b\b\b\b\b\b\b\b\b\b\b\b\b\b\b\b\b\b\b\b\b\b\b\b\b\b\b 29% 256 - train/1127_left.jpeg\b\b\b\b\b\b\b\b\b\b\b\b\b\b\b\b\b\b\b\b\b\b\b\b\b\b\b\b\b\b\b                               \b\b\b\b\b\b\b\b\b\b\b\b\b\b\b\b\b\b\b\b\b\b\b\b\b\b\b\b\b\b\b 30% 265 - train/11291_right.jpeg\b\b\b\b\b\b\b\b\b\b\b\b\b\b\b\b\b\b\b\b\b\b\b\b\b\b\b\b\b\b\b\b\b                                 \b\b\b\b\b\b\b\b\b\b\b\b\b\b\b\b\b\b\b\b\b\b\b\b\b\b\b\b\b\b\b\b\b 31% 276 - train/11301_left.jpeg\b\b\b\b\b\b\b\b\b\b\b\b\b\b\b\b\b\b\b\b\b\b\b\b\b\b\b\b\b\b\b\b                                \b\b\b\b\b\b\b\b\b\b\b\b\b\b\b\b\b\b\b\b\b\b\b\b\b\b\b\b\b\b\b\b 32% 284 - train/11310_left.jpeg\b\b\b\b\b\b\b\b\b\b\b\b\b\b\b\b\b\b\b\b\b\b\b\b\b\b\b\b\b\b\b\b                                \b\b\b\b\b\b\b\b\b\b\b\b\b\b\b\b\b\b\b\b\b\b\b\b\b\b\b\b\b\b\b\b 34% 292 - train/11316_left.jpeg\b\b\b\b\b\b\b\b\b\b\b\b\b\b\b\b\b\b\b\b\b\b\b\b\b\b\b\b\b\b\b\b                                \b\b\b\b\b\b\b\b\b\b\b\b\b\b\b\b\b\b\b\b\b\b\b\b\b\b\b\b\b\b\b\b 35% 301 - train/11321_right.jpeg\b\b\b\b\b\b\b\b\b\b\b\b\b\b\b\b\b\b\b\b\b\b\b\b\b\b\b\b\b\b\b\b\b                                 \b\b\b\b\b\b\b\b\b\b\b\b\b\b\b\b\b\b\b\b\b\b\b\b\b\b\b\b\b\b\b\b\b 36% 314 - train/11341_left.jpeg\b\b\b\b\b\b\b\b\b\b\b\b\b\b\b\b\b\b\b\b\b\b\b\b\b\b\b\b\b\b\b\b                                \b\b\b\b\b\b\b\b\b\b\b\b\b\b\b\b\b\b\b\b\b\b\b\b\b\b\b\b\b\b\b\b 38% 326 - train/11364_left.jpeg\b\b\b\b\b\b\b\b\b\b\b\b\b\b\b\b\b\b\b\b\b\b\b\b\b\b\b\b\b\b\b\b                                \b\b\b\b\b\b\b\b\b\b\b\b\b\b\b\b\b\b\b\b\b\b\b\b\b\b\b\b\b\b\b\b 39% 338 - train/11375_left.jpeg\b\b\b\b\b\b\b\b\b\b\b\b\b\b\b\b\b\b\b\b\b\b\b\b\b\b\b\b\b\b\b\b                                \b\b\b\b\b\b\b\b\b\b\b\b\b\b\b\b\b\b\b\b\b\b\b\b\b\b\b\b\b\b\b\b 40% 349 - train/11387_right.jpeg\b\b\b\b\b\b\b\b\b\b\b\b\b\b\b\b\b\b\b\b\b\b\b\b\b\b\b\b\b\b\b\b\b                                 \b\b\b\b\b\b\b\b\b\b\b\b\b\b\b\b\b\b\b\b\b\b\b\b\b\b\b\b\b\b\b\b\b 41% 357 - train/11392_right.jpeg\b\b\b\b\b\b\b\b\b\b\b\b\b\b\b\b\b\b\b\b\b\b\b\b\b\b\b\b\b\b\b\b\b                                 \b\b\b\b\b\b\b\b\b\b\b\b\b\b\b\b\b\b\b\b\b\b\b\b\b\b\b\b\b\b\b\b\b 43% 368 - train/11407_left.jpeg\b\b\b\b\b\b\b\b\b\b\b\b\b\b\b\b\b\b\b\b\b\b\b\b\b\b\b\b\b\b\b\b                                \b\b\b\b\b\b\b\b\b\b\b\b\b\b\b\b\b\b\b\b\b\b\b\b\b\b\b\b\b\b\b\b 44% 378 - train/11420_left.jpeg\b\b\b\b\b\b\b\b\b\b\b\b\b\b\b\b\b\b\b\b\b\b\b\b\b\b\b\b\b\b\b\b                                \b\b\b\b\b\b\b\b\b\b\b\b\b\b\b\b\b\b\b\b\b\b\b\b\b\b\b\b\b\b\b\b 45% 387 - train/11428_right.jpeg\b\b\b\b\b\b\b\b\b\b\b\b\b\b\b\b\b\b\b\b\b\b\b\b\b\b\b\b\b\b\b\b\b                                 \b\b\b\b\b\b\b\b\b\b\b\b\b\b\b\b\b\b\b\b\b\b\b\b\b\b\b\b\b\b\b\b\b 46% 402 - train/11443_left.jpeg\b\b\b\b\b\b\b\b\b\b\b\b\b\b\b\b\b\b\b\b\b\b\b\b\b\b\b\b\b\b\b\b                                \b\b\b\b\b\b\b\b\b\b\b\b\b\b\b\b\b\b\b\b\b\b\b\b\b\b\b\b\b\b\b\b 47% 414 - train/11455_left.jpeg\b\b\b\b\b\b\b\b\b\b\b\b\b\b\b\b\b\b\b\b\b\b\b\b\b\b\b\b\b\b\b\b                                \b\b\b\b\b\b\b\b\b\b\b\b\b\b\b\b\b\b\b\b\b\b\b\b\b\b\b\b\b\b\b\b 48% 423 - train/1146_right.jpeg\b\b\b\b\b\b\b\b\b\b\b\b\b\b\b\b\b\b\b\b\b\b\b\b\b\b\b\b\b\b\b\b                                \b\b\b\b\b\b\b\b\b\b\b\b\b\b\b\b\b\b\b\b\b\b\b\b\b\b\b\b\b\b\b\b 50% 433 - train/11482_right.jpeg\b\b\b\b\b\b\b\b\b\b\b\b\b\b\b\b\b\b\b\b\b\b\b\b\b\b\b\b\b\b\b\b\b                                 \b\b\b\b\b\b\b\b\b\b\b\b\b\b\b\b\b\b\b\b\b\b\b\b\b\b\b\b\b\b\b\b\b 51% 444 - train/11494_left.jpeg\b\b\b\b\b\b\b\b\b\b\b\b\b\b\b\b\b\b\b\b\b\b\b\b\b\b\b\b\b\b\b\b                                \b\b\b\b\b\b\b\b\b\b\b\b\b\b\b\b\b\b\b\b\b\b\b\b\b\b\b\b\b\b\b\b 52% 453 - train/11500_right.jpeg\b\b\b\b\b\b\b\b\b\b\b\b\b\b\b\b\b\b\b\b\b\b\b\b\b\b\b\b\b\b\b\b\b                                 \b\b\b\b\b\b\b\b\b\b\b\b\b\b\b\b\b\b\b\b\b\b\b\b\b\b\b\b\b\b\b\b\b 53% 465 - train/11519_right.jpeg\b\b\b\b\b\b\b\b\b\b\b\b\b\b\b\b\b\b\b\b\b\b\b\b\b\b\b\b\b\b\b\b\b                                 \b\b\b\b\b\b\b\b\b\b\b\b\b\b\b\b\b\b\b\b\b\b\b\b\b\b\b\b\b\b\b\b\b 55% 478 - train/11539_left.jpeg\b\b\b\b\b\b\b\b\b\b\b\b\b\b\b\b\b\b\b\b\b\b\b\b\b\b\b\b\b\b\b\b                                \b\b\b\b\b\b\b\b\b\b\b\b\b\b\b\b\b\b\b\b\b\b\b\b\b\b\b\b\b\b\b\b 56% 489 - train/11546_right.jpeg\b\b\b\b\b\b\b\b\b\b\b\b\b\b\b\b\b\b\b\b\b\b\b\b\b\b\b\b\b\b\b\b\b                                 \b\b\b\b\b\b\b\b\b\b\b\b\b\b\b\b\b\b\b\b\b\b\b\b\b\b\b\b\b\b\b\b\b 57% 501 - train/11573_right.jpeg\b\b\b\b\b\b\b\b\b\b\b\b\b\b\b\b\b\b\b\b\b\b\b\b\b\b\b\b\b\b\b\b\b                                 \b\b\b\b\b\b\b\b\b\b\b\b\b\b\b\b\b\b\b\b\b\b\b\b\b\b\b\b\b\b\b\b\b 58% 514 - train/11593_left.jpeg\b\b\b\b\b\b\b\b\b\b\b\b\b\b\b\b\b\b\b\b\b\b\b\b\b\b\b\b\b\b\b\b                                \b\b\b\b\b\b\b\b\b\b\b\b\b\b\b\b\b\b\b\b\b\b\b\b\b\b\b\b\b\b\b\b 59% 527 - train/11603_right.jpeg\b\b\b\b\b\b\b\b\b\b\b\b\b\b\b\b\b\b\b\b\b\b\b\b\b\b\b\b\b\b\b\b\b                                 \b\b\b\b\b\b\b\b\b\b\b\b\b\b\b\b\b\b\b\b\b\b\b\b\b\b\b\b\b\b\b\b\b 61% 538 - train/11618_left.jpeg\b\b\b\b\b\b\b\b\b\b\b\b\b\b\b\b\b\b\b\b\b\b\b\b\b\b\b\b\b\b\b\b                                \b\b\b\b\b\b\b\b\b\b\b\b\b\b\b\b\b\b\b\b\b\b\b\b\b\b\b\b\b\b\b\b 62% 551 - train/11626_right.jpeg\b\b\b\b\b\b\b\b\b\b\b\b\b\b\b\b\b\b\b\b\b\b\b\b\b\b\b\b\b\b\b\b\b                                 \b\b\b\b\b\b\b\b\b\b\b\b\b\b\b\b\b\b\b\b\b\b\b\b\b\b\b\b\b\b\b\b\b 63% 564 - train/11642_left.jpeg\b\b\b\b\b\b\b\b\b\b\b\b\b\b\b\b\b\b\b\b\b\b\b\b\b\b\b\b\b\b\b\b                                \b\b\b\b\b\b\b\b\b\b\b\b\b\b\b\b\b\b\b\b\b\b\b\b\b\b\b\b\b\b\b\b 64% 572 - train/11648_left.jpeg\b\b\b\b\b\b\b\b\b\b\b\b\b\b\b\b\b\b\b\b\b\b\b\b\b\b\b\b\b\b\b\b                                \b\b\b\b\b\b\b\b\b\b\b\b\b\b\b\b\b\b\b\b\b\b\b\b\b\b\b\b\b\b\b\b 66% 586 - train/11661_left.jpeg\b\b\b\b\b\b\b\b\b\b\b\b\b\b\b\b\b\b\b\b\b\b\b\b\b\b\b\b\b\b\b\b                                \b\b\b\b\b\b\b\b\b\b\b\b\b\b\b\b\b\b\b\b\b\b\b\b\b\b\b\b\b\b\b\b 67% 594 - train/1167_left.jpeg\b\b\b\b\b\b\b\b\b\b\b\b\b\b\b\b\b\b\b\b\b\b\b\b\b\b\b\b\b\b\b                               \b\b\b\b\b\b\b\b\b\b\b\b\b\b\b\b\b\b\b\b\b\b\b\b\b\b\b\b\b\b\b 68% 607 - train/11704_right.jpeg\b\b\b\b\b\b\b\b\b\b\b\b\b\b\b\b\b\b\b\b\b\b\b\b\b\b\b\b\b\b\b\b\b                                 \b\b\b\b\b\b\b\b\b\b\b\b\b\b\b\b\b\b\b\b\b\b\b\b\b\b\b\b\b\b\b\b\b 69% 620 - train/11726_left.jpeg\b\b\b\b\b\b\b\b\b\b\b\b\b\b\b\b\b\b\b\b\b\b\b\b\b\b\b\b\b\b\b\b                                \b\b\b\b\b\b\b\b\b\b\b\b\b\b\b\b\b\b\b\b\b\b\b\b\b\b\b\b\b\b\b\b 71% 631 - train/11736_right.jpeg\b\b\b\b\b\b\b\b\b\b\b\b\b\b\b\b\b\b\b\b\b\b\b\b\b\b\b\b\b\b\b\b\b                                 \b\b\b\b\b\b\b\b\b\b\b\b\b\b\b\b\b\b\b\b\b\b\b\b\b\b\b\b\b\b\b\b\b 72% 639 - train/11744_right.jpeg\b\b\b\b\b\b\b\b\b\b\b\b\b\b\b\b\b\b\b\b\b\b\b\b\b\b\b\b\b\b\b\b\b                                 \b\b\b\b\b\b\b\b\b\b\b\b\b\b\b\b\b\b\b\b\b\b\b\b\b\b\b\b\b\b\b\b\b 73% 649 - train/11759_right.jpeg\b\b\b\b\b\b\b\b\b\b\b\b\b\b\b\b\b\b\b\b\b\b\b\b\b\b\b\b\b\b\b\b\b                                 \b\b\b\b\b\b\b\b\b\b\b\b\b\b\b\b\b\b\b\b\b\b\b\b\b\b\b\b\b\b\b\b\b 74% 660 - train/11775_left.jpeg\b\b\b\b\b\b\b\b\b\b\b\b\b\b\b\b\b\b\b\b\b\b\b\b\b\b\b\b\b\b\b\b                                \b\b\b\b\b\b\b\b\b\b\b\b\b\b\b\b\b\b\b\b\b\b\b\b\b\b\b\b\b\b\b\b 76% 670 - train/11780_left.jpeg\b\b\b\b\b\b\b\b\b\b\b\b\b\b\b\b\b\b\b\b\b\b\b\b\b\b\b\b\b\b\b\b                                \b\b\b\b\b\b\b\b\b\b\b\b\b\b\b\b\b\b\b\b\b\b\b\b\b\b\b\b\b\b\b\b 77% 680 - train/11790_left.jpeg\b\b\b\b\b\b\b\b\b\b\b\b\b\b\b\b\b\b\b\b\b\b\b\b\b\b\b\b\b\b\b\b                                \b\b\b\b\b\b\b\b\b\b\b\b\b\b\b\b\b\b\b\b\b\b\b\b\b\b\b\b\b\b\b\b 78% 688 - train/1179_left.jpeg\b\b\b\b\b\b\b\b\b\b\b\b\b\b\b\b\b\b\b\b\b\b\b\b\b\b\b\b\b\b\b                               \b\b\b\b\b\b\b\b\b\b\b\b\b\b\b\b\b\b\b\b\b\b\b\b\b\b\b\b\b\b\b 79% 700 - train/1180_left.jpeg\b\b\b\b\b\b\b\b\b\b\b\b\b\b\b\b\b\b\b\b\b\b\b\b\b\b\b\b\b\b\b                               \b\b\b\b\b\b\b\b\b\b\b\b\b\b\b\b\b\b\b\b\b\b\b\b\b\b\b\b\b\b\b 81% 709 - train/11817_right.jpeg\b\b\b\b\b\b\b\b\b\b\b\b\b\b\b\b\b\b\b\b\b\b\b\b\b\b\b\b\b\b\b\b\b                                 \b\b\b\b\b\b\b\b\b\b\b\b\b\b\b\b\b\b\b\b\b\b\b\b\b\b\b\b\b\b\b\b\b 82% 719 - train/11826_right.jpeg\b\b\b\b\b\b\b\b\b\b\b\b\b\b\b\b\b\b\b\b\b\b\b\b\b\b\b\b\b\b\b\b\b                                 \b\b\b\b\b\b\b\b\b\b\b\b\b\b\b\b\b\b\b\b\b\b\b\b\b\b\b\b\b\b\b\b\b 83% 733 - train/11838_right.jpeg\b\b\b\b\b\b\b\b\b\b\b\b\b\b\b\b\b\b\b\b\b\b\b\b\b\b\b\b\b\b\b\b\b                                 \b\b\b\b\b\b\b\b\b\b\b\b\b\b\b\b\b\b\b\b\b\b\b\b\b\b\b\b\b\b\b\b\b 84% 745 - train/11855_right.jpeg\b\b\b\b\b\b\b\b\b\b\b\b\b\b\b\b\b\b\b\b\b\b\b\b\b\b\b\b\b\b\b\b\b                                 \b\b\b\b\b\b\b\b\b\b\b\b\b\b\b\b\b\b\b\b\b\b\b\b\b\b\b\b\b\b\b\b\b 86% 755 - train/11870_right.jpeg\b\b\b\b\b\b\b\b\b\b\b\b\b\b\b\b\b\b\b\b\b\b\b\b\b\b\b\b\b\b\b\b\b                                 \b\b\b\b\b\b\b\b\b\b\b\b\b\b\b\b\b\b\b\b\b\b\b\b\b\b\b\b\b\b\b\b\b 87% 769 - train/11894_right.jpeg\b\b\b\b\b\b\b\b\b\b\b\b\b\b\b\b\b\b\b\b\b\b\b\b\b\b\b\b\b\b\b\b\b                                 \b\b\b\b\b\b\b\b\b\b\b\b\b\b\b\b\b\b\b\b\b\b\b\b\b\b\b\b\b\b\b\b\b 88% 777 - train/11903_right.jpeg\b\b\b\b\b\b\b\b\b\b\b\b\b\b\b\b\b\b\b\b\b\b\b\b\b\b\b\b\b\b\b\b\b                                 \b\b\b\b\b\b\b\b\b\b\b\b\b\b\b\b\b\b\b\b\b\b\b\b\b\b\b\b\b\b\b\b\b 89% 785 - train/11913_right.jpeg\b\b\b\b\b\b\b\b\b\b\b\b\b\b\b\b\b\b\b\b\b\b\b\b\b\b\b\b\b\b\b\b\b                                 \b\b\b\b\b\b\b\b\b\b\b\b\b\b\b\b\b\b\b\b\b\b\b\b\b\b\b\b\b\b\b\b\b 91% 796 - train/11926_left.jpeg\b\b\b\b\b\b\b\b\b\b\b\b\b\b\b\b\b\b\b\b\b\b\b\b\b\b\b\b\b\b\b\b                                \b\b\b\b\b\b\b\b\b\b\b\b\b\b\b\b\b\b\b\b\b\b\b\b\b\b\b\b\b\b\b\b 92% 806 - train/11937_left.jpeg\b\b\b\b\b\b\b\b\b\b\b\b\b\b\b\b\b\b\b\b\b\b\b\b\b\b\b\b\b\b\b\b                                \b\b\b\b\b\b\b\b\b\b\b\b\b\b\b\b\b\b\b\b\b\b\b\b\b\b\b\b\b\b\b\b 93% 817 - train/11949_right.jpeg\b\b\b\b\b\b\b\b\b\b\b\b\b\b\b\b\b\b\b\b\b\b\b\b\b\b\b\b\b\b\b\b\b                                 \b\b\b\b\b\b\b\b\b\b\b\b\b\b\b\b\b\b\b\b\b\b\b\b\b\b\b\b\b\b\b\b\b 94% 828 - train/11962_left.jpeg\b\b\b\b\b\b\b\b\b\b\b\b\b\b\b\b\b\b\b\b\b\b\b\b\b\b\b\b\b\b\b\b                                \b\b\b\b\b\b\b\b\b\b\b\b\b\b\b\b\b\b\b\b\b\b\b\b\b\b\b\b\b\b\b\b 95% 837 - train/1196_right.jpeg\b\b\b\b\b\b\b\b\b\b\b\b\b\b\b\b\b\b\b\b\b\b\b\b\b\b\b\b\b\b\b\b                                \b\b\b\b\b\b\b\b\b\b\b\b\b\b\b\b\b\b\b\b\b\b\b\b\b\b\b\b\b\b\b\b 97% 847 - train/1197_right.jpeg\b\b\b\b\b\b\b\b\b\b\b\b\b\b\b\b\b\b\b\b\b\b\b\b\b\b\b\b\b\b\b\b                                \b\b\b\b\b\b\b\b\b\b\b\b\b\b\b\b\b\b\b\b\b\b\b\b\b\b\b\b\b\b\b\b 98% 856 - train/11989_left.jpeg\b\b\b\b\b\b\b\b\b\b\b\b\b\b\b\b\b\b\b\b\b\b\b\b\b\b\b\b\b\b\b\b                                \b\b\b\b\b\b\b\b\b\b\b\b\b\b\b\b\b\b\b\b\b\b\b\b\b\b\b\b\b\b\b\b 99% 867 - train/11997_right.jpeg\b\b\b\b\b\b\b\b\b\b\b\b\b\b\b\b\b\b\b\b\b\b\b\b\b\b\b\b\b\b\b\b\b                                 \b\b\b\b\b\b\b\b\b\b\b\b\b\b\b\b\b\b\b\b\b\b\b\b\b\b\b\b\b\b\b\b\bEverything is Ok\r\n",
      "\r\n",
      "Files: 872\r\n",
      "Size:       945260232\r\n",
      "Compressed: 34988445506\r\n"
     ]
    }
   ],
   "source": [
    "!apt install p7zip-full -y\n",
    "!7z x ../input/diabetic-retinopathy-detection/train.zip.001 \"-i!train/11*.jpeg\" -y # restrict extracted file to about 100 for the disk restriction\n",
    "!mkdir data\n",
    "!mv train data/train_11\n"
   ]
  },
  {
   "cell_type": "code",
   "execution_count": 5,
   "id": "03988a0a",
   "metadata": {
    "execution": {
     "iopub.execute_input": "2024-07-27T16:20:52.961741Z",
     "iopub.status.busy": "2024-07-27T16:20:52.960880Z",
     "iopub.status.idle": "2024-07-27T16:20:55.122821Z",
     "shell.execute_reply": "2024-07-27T16:20:55.123412Z",
     "shell.execute_reply.started": "2024-07-27T14:20:43.025627Z"
    },
    "papermill": {
     "duration": 2.269935,
     "end_time": "2024-07-27T16:20:55.123631",
     "exception": false,
     "start_time": "2024-07-27T16:20:52.853696",
     "status": "completed"
    },
    "tags": []
   },
   "outputs": [
    {
     "data": {
      "text/plain": [
       "<matplotlib.image.AxesImage at 0x7e9c95fbb390>"
      ]
     },
     "execution_count": 5,
     "metadata": {},
     "output_type": "execute_result"
    },
    {
     "data": {
      "image/png": "[encoded data removed]",
      "text/plain": [
       "<Figure size 432x288 with 1 Axes>"
      ]
     },
     "metadata": {
      "needs_background": "light"
     },
     "output_type": "display_data"
    }
   ],
   "source": [
    "from PIL import Image\n",
    "\n",
    "img = Image.open(\"./data/train_11/1116_right.jpeg\")\n",
    "\n",
    "import matplotlib.pyplot as plt\n",
    "\n",
    "plt.imshow(img)"
   ]
  },
  {
   "cell_type": "code",
   "execution_count": 6,
   "id": "a73b6b64",
   "metadata": {
    "execution": {
     "iopub.execute_input": "2024-07-27T16:20:55.357594Z",
     "iopub.status.busy": "2024-07-27T16:20:55.356745Z",
     "iopub.status.idle": "2024-07-27T16:20:55.455772Z",
     "shell.execute_reply": "2024-07-27T16:20:55.455109Z",
     "shell.execute_reply.started": "2024-07-27T14:20:44.825824Z"
    },
    "papermill": {
     "duration": 0.218837,
     "end_time": "2024-07-27T16:20:55.455928",
     "exception": false,
     "start_time": "2024-07-27T16:20:55.237091",
     "status": "completed"
    },
    "tags": []
   },
   "outputs": [],
   "source": [
    "%reload_ext autoreload\n",
    "%autoreload 2\n",
    "%matplotlib inline"
   ]
  },
  {
   "cell_type": "markdown",
   "id": "20d066e3",
   "metadata": {
    "papermill": {
     "duration": 0.105225,
     "end_time": "2024-07-27T16:20:55.667744",
     "exception": false,
     "start_time": "2024-07-27T16:20:55.562519",
     "status": "completed"
    },
    "tags": []
   },
   "source": []
  },
  {
   "cell_type": "markdown",
   "id": "c6b8a106",
   "metadata": {
    "papermill": {
     "duration": 0.104824,
     "end_time": "2024-07-27T16:20:55.876853",
     "exception": false,
     "start_time": "2024-07-27T16:20:55.772029",
     "status": "completed"
    },
    "tags": []
   },
   "source": [
    "## Filtering csv file"
   ]
  },
  {
   "cell_type": "code",
   "execution_count": 7,
   "id": "6d7ebba2",
   "metadata": {
    "execution": {
     "iopub.execute_input": "2024-07-27T16:20:56.097610Z",
     "iopub.status.busy": "2024-07-27T16:20:56.096458Z",
     "iopub.status.idle": "2024-07-27T16:20:56.538786Z",
     "shell.execute_reply": "2024-07-27T16:20:56.538039Z",
     "shell.execute_reply.started": "2024-07-27T14:20:44.916720Z"
    },
    "papermill": {
     "duration": 0.556804,
     "end_time": "2024-07-27T16:20:56.538944",
     "exception": false,
     "start_time": "2024-07-27T16:20:55.982140",
     "status": "completed"
    },
    "tags": []
   },
   "outputs": [
    {
     "data": {
      "text/html": [
       "<div>\n",
       "<style scoped>\n",
       "    .dataframe tbody tr th:only-of-type {\n",
       "        vertical-align: middle;\n",
       "    }\n",
       "\n",
       "    .dataframe tbody tr th {\n",
       "        vertical-align: top;\n",
       "    }\n",
       "\n",
       "    .dataframe thead th {\n",
       "        text-align: right;\n",
       "    }\n",
       "</style>\n",
       "<table border=\"1\" class=\"dataframe\">\n",
       "  <thead>\n",
       "    <tr style=\"text-align: right;\">\n",
       "      <th></th>\n",
       "      <th>level</th>\n",
       "      <th>path</th>\n",
       "    </tr>\n",
       "  </thead>\n",
       "  <tbody>\n",
       "    <tr>\n",
       "      <th>0</th>\n",
       "      <td>3</td>\n",
       "      <td>./data/train_11/11871_left.jpeg</td>\n",
       "    </tr>\n",
       "    <tr>\n",
       "      <th>1</th>\n",
       "      <td>2</td>\n",
       "      <td>./data/train_11/11975_left.jpeg</td>\n",
       "    </tr>\n",
       "    <tr>\n",
       "      <th>2</th>\n",
       "      <td>3</td>\n",
       "      <td>./data/train_11/11734_left.jpeg</td>\n",
       "    </tr>\n",
       "    <tr>\n",
       "      <th>3</th>\n",
       "      <td>0</td>\n",
       "      <td>./data/train_11/11049_right.jpeg</td>\n",
       "    </tr>\n",
       "    <tr>\n",
       "      <th>4</th>\n",
       "      <td>2</td>\n",
       "      <td>./data/train_11/11054_right.jpeg</td>\n",
       "    </tr>\n",
       "    <tr>\n",
       "      <th>5</th>\n",
       "      <td>4</td>\n",
       "      <td>./data/train_11/1138_left.jpeg</td>\n",
       "    </tr>\n",
       "    <tr>\n",
       "      <th>6</th>\n",
       "      <td>0</td>\n",
       "      <td>./data/train_11/11894_right.jpeg</td>\n",
       "    </tr>\n",
       "    <tr>\n",
       "      <th>7</th>\n",
       "      <td>0</td>\n",
       "      <td>./data/train_11/11234_right.jpeg</td>\n",
       "    </tr>\n",
       "    <tr>\n",
       "      <th>8</th>\n",
       "      <td>0</td>\n",
       "      <td>./data/train_11/11749_right.jpeg</td>\n",
       "    </tr>\n",
       "    <tr>\n",
       "      <th>9</th>\n",
       "      <td>0</td>\n",
       "      <td>./data/train_11/11079_left.jpeg</td>\n",
       "    </tr>\n",
       "  </tbody>\n",
       "</table>\n",
       "</div>"
      ],
      "text/plain": [
       "  level                              path\n",
       "0     3   ./data/train_11/11871_left.jpeg\n",
       "1     2   ./data/train_11/11975_left.jpeg\n",
       "2     3   ./data/train_11/11734_left.jpeg\n",
       "3     0  ./data/train_11/11049_right.jpeg\n",
       "4     2  ./data/train_11/11054_right.jpeg\n",
       "5     4    ./data/train_11/1138_left.jpeg\n",
       "6     0  ./data/train_11/11894_right.jpeg\n",
       "7     0  ./data/train_11/11234_right.jpeg\n",
       "8     0  ./data/train_11/11749_right.jpeg\n",
       "9     0   ./data/train_11/11079_left.jpeg"
      ]
     },
     "execution_count": 7,
     "metadata": {},
     "output_type": "execute_result"
    }
   ],
   "source": [
    "import os\n",
    "base_image_dir = os.path.join('.', 'data/train_11')\n",
    "df = pd.read_csv(os.path.join('./trainLabels.csv'))\n",
    "df['path'] = df['image'].map(lambda x: os.path.join(base_image_dir,'{}.jpeg'.format(x)))\n",
    "df['exists'] = df['path'].map(os.path.exists) #Most of the files do not exist because this is a sample of the original dataset\n",
    "df = df[df['exists']]\n",
    "df = df.drop(columns=['image','exists'])\n",
    "df = df.sample(frac=1).reset_index(drop=True)#shuffle dataframe\n",
    "df['level'] = df['level'].astype(str)\n",
    "df.head(10)"
   ]
  },
  {
   "cell_type": "markdown",
   "id": "995b8ec4",
   "metadata": {
    "papermill": {
     "duration": 0.104662,
     "end_time": "2024-07-27T16:20:56.748753",
     "exception": false,
     "start_time": "2024-07-27T16:20:56.644091",
     "status": "completed"
    },
    "tags": []
   },
   "source": [
    "### The dataset is highly imbalanced, with many samples for level 0, and very little for the rest of the levels.\n"
   ]
  },
  {
   "cell_type": "code",
   "execution_count": 8,
   "id": "cc47ee9c",
   "metadata": {
    "execution": {
     "iopub.execute_input": "2024-07-27T16:20:56.963643Z",
     "iopub.status.busy": "2024-07-27T16:20:56.962616Z",
     "iopub.status.idle": "2024-07-27T16:20:57.235259Z",
     "shell.execute_reply": "2024-07-27T16:20:57.235893Z",
     "shell.execute_reply.started": "2024-07-27T14:20:45.305918Z"
    },
    "papermill": {
     "duration": 0.382659,
     "end_time": "2024-07-27T16:20:57.236097",
     "exception": false,
     "start_time": "2024-07-27T16:20:56.853438",
     "status": "completed"
    },
    "tags": []
   },
   "outputs": [
    {
     "data": {
      "text/plain": [
       "<AxesSubplot:>"
      ]
     },
     "execution_count": 8,
     "metadata": {},
     "output_type": "execute_result"
    },
    {
     "data": {
      "image/png": "[encoded data removed]",
      "text/plain": [
       "<Figure size 720x360 with 1 Axes>"
      ]
     },
     "metadata": {
      "needs_background": "light"
     },
     "output_type": "display_data"
    }
   ],
   "source": [
    "df['level'].hist(figsize = (10, 5))"
   ]
  },
  {
   "cell_type": "code",
   "execution_count": 9,
   "id": "e8de77c0",
   "metadata": {
    "execution": {
     "iopub.execute_input": "2024-07-27T16:20:57.459735Z",
     "iopub.status.busy": "2024-07-27T16:20:57.458906Z",
     "iopub.status.idle": "2024-07-27T16:20:57.533100Z",
     "shell.execute_reply": "2024-07-27T16:20:57.532474Z",
     "shell.execute_reply.started": "2024-07-27T14:20:45.539905Z"
    },
    "papermill": {
     "duration": 0.189608,
     "end_time": "2024-07-27T16:20:57.533266",
     "exception": false,
     "start_time": "2024-07-27T16:20:57.343658",
     "status": "completed"
    },
    "tags": []
   },
   "outputs": [],
   "source": [
    "def balance_data(class_size,df):\n",
    "    train_df = df.groupby(['level']).apply(lambda x: x.sample(class_size, replace = True)).reset_index(drop = True)\n",
    "    train_df = train_df.sample(frac=1).reset_index(drop=True)\n",
    "    print('New Data Size:', train_df.shape[0], 'Old Size:', df.shape[0])\n",
    "    train_df['level'].hist(figsize = (10, 5))\n",
    "    return train_df\n"
   ]
  },
  {
   "cell_type": "code",
   "execution_count": 10,
   "id": "2338e1bd",
   "metadata": {
    "execution": {
     "iopub.execute_input": "2024-07-27T16:20:57.750757Z",
     "iopub.status.busy": "2024-07-27T16:20:57.749970Z",
     "iopub.status.idle": "2024-07-27T16:20:58.071214Z",
     "shell.execute_reply": "2024-07-27T16:20:58.071811Z",
     "shell.execute_reply.started": "2024-07-27T14:20:45.611820Z"
    },
    "papermill": {
     "duration": 0.433704,
     "end_time": "2024-07-27T16:20:58.072134",
     "exception": false,
     "start_time": "2024-07-27T16:20:57.638430",
     "status": "completed"
    },
    "tags": []
   },
   "outputs": [
    {
     "data": {
      "text/plain": [
       "175"
      ]
     },
     "execution_count": 10,
     "metadata": {},
     "output_type": "execute_result"
    },
    {
     "data": {
      "image/png": "[encoded data removed]",
      "text/plain": [
       "<Figure size 720x360 with 1 Axes>"
      ]
     },
     "metadata": {
      "needs_background": "light"
     },
     "output_type": "display_data"
    }
   ],
   "source": [
    "from sklearn.model_selection import train_test_split\n",
    "train_df, val_df = train_test_split(df,test_size=0.2) # Here we will perform an 80%/20% split of the dataset, with stratification to keep similar distribution in validation set\n",
    "train_df['level'].hist(figsize = (10, 5))\n",
    "len(val_df)"
   ]
  },
  {
   "cell_type": "code",
   "execution_count": 11,
   "id": "f1b1687c",
   "metadata": {
    "execution": {
     "iopub.execute_input": "2024-07-27T16:20:58.293527Z",
     "iopub.status.busy": "2024-07-27T16:20:58.292517Z",
     "iopub.status.idle": "2024-07-27T16:20:58.656195Z",
     "shell.execute_reply": "2024-07-27T16:20:58.655583Z",
     "shell.execute_reply.started": "2024-07-27T14:20:45.843739Z"
    },
    "papermill": {
     "duration": 0.476061,
     "end_time": "2024-07-27T16:20:58.656374",
     "exception": false,
     "start_time": "2024-07-27T16:20:58.180313",
     "status": "completed"
    },
    "tags": []
   },
   "outputs": [
    {
     "name": "stdout",
     "output_type": "stream",
     "text": [
      "New Data Size: 2400 Old Size: 697\n"
     ]
    },
    {
     "data": {
      "text/plain": [
       "<AxesSubplot:>"
      ]
     },
     "execution_count": 11,
     "metadata": {},
     "output_type": "execute_result"
    },
    {
     "data": {
      "image/png": "[encoded data removed]",
      "text/plain": [
       "<Figure size 720x360 with 1 Axes>"
      ]
     },
     "metadata": {
      "needs_background": "light"
     },
     "output_type": "display_data"
    }
   ],
   "source": [
    "train_df = balance_data(train_df.pivot_table(index='level', aggfunc=len).max().max(),train_df) # I will oversample such that all classes have the same number of images as the maximum\n",
    "train_df['level'].hist(figsize = (10, 5))"
   ]
  },
  {
   "cell_type": "code",
   "execution_count": 12,
   "id": "fb68b797",
   "metadata": {
    "execution": {
     "iopub.execute_input": "2024-07-27T16:20:58.878647Z",
     "iopub.status.busy": "2024-07-27T16:20:58.877854Z",
     "iopub.status.idle": "2024-07-27T16:20:58.953399Z",
     "shell.execute_reply": "2024-07-27T16:20:58.952794Z",
     "shell.execute_reply.started": "2024-07-27T14:20:46.096896Z"
    },
    "papermill": {
     "duration": 0.188656,
     "end_time": "2024-07-27T16:20:58.953548",
     "exception": false,
     "start_time": "2024-07-27T16:20:58.764892",
     "status": "completed"
    },
    "tags": []
   },
   "outputs": [
    {
     "data": {
      "text/plain": [
       "2575"
      ]
     },
     "execution_count": 12,
     "metadata": {},
     "output_type": "execute_result"
    }
   ],
   "source": [
    "df = pd.concat([train_df,val_df]) #beginning of this dataframe is the oversampled training set, end is the validation set\n",
    "len(df)"
   ]
  },
  {
   "cell_type": "code",
   "execution_count": 13,
   "id": "49366ff8",
   "metadata": {
    "execution": {
     "iopub.execute_input": "2024-07-27T16:20:59.172948Z",
     "iopub.status.busy": "2024-07-27T16:20:59.172187Z",
     "iopub.status.idle": "2024-07-27T16:20:59.247018Z",
     "shell.execute_reply": "2024-07-27T16:20:59.246404Z",
     "shell.execute_reply.started": "2024-07-27T14:20:46.166500Z"
    },
    "papermill": {
     "duration": 0.186497,
     "end_time": "2024-07-27T16:20:59.247178",
     "exception": false,
     "start_time": "2024-07-27T16:20:59.060681",
     "status": "completed"
    },
    "tags": []
   },
   "outputs": [],
   "source": [
    "train_datagen = ImageDataGenerator(\n",
    "    rescale=1.0/255,\n",
    "    horizontal_flip = True,\n",
    "    zoom_range=0.2\n",
    ")\n",
    "\n",
    "test_datagen = ImageDataGenerator(\n",
    "    rescale=1.0/255,\n",
    "    validation_split = 0.2\n",
    ")"
   ]
  },
  {
   "cell_type": "code",
   "execution_count": 14,
   "id": "60042a18",
   "metadata": {
    "execution": {
     "iopub.execute_input": "2024-07-27T16:20:59.476428Z",
     "iopub.status.busy": "2024-07-27T16:20:59.475704Z",
     "iopub.status.idle": "2024-07-27T16:20:59.592265Z",
     "shell.execute_reply": "2024-07-27T16:20:59.591733Z",
     "shell.execute_reply.started": "2024-07-27T14:20:46.238410Z"
    },
    "papermill": {
     "duration": 0.2329,
     "end_time": "2024-07-27T16:20:59.592428",
     "exception": false,
     "start_time": "2024-07-27T16:20:59.359528",
     "status": "completed"
    },
    "tags": []
   },
   "outputs": [
    {
     "name": "stdout",
     "output_type": "stream",
     "text": [
      "Found 2400 validated image filenames belonging to 5 classes.\n",
      "Found 175 validated image filenames belonging to 5 classes.\n"
     ]
    }
   ],
   "source": [
    "x_train = train_datagen.flow_from_dataframe(\n",
    "        train_df,\n",
    "        directory=\".\",\n",
    "        x_col=\"path\",\n",
    "        y_col=\"level\",\n",
    "        target_size=(256, 256),\n",
    "        batch_size=32,\n",
    "        class_mode='categorical')\n",
    "x_test = test_datagen.flow_from_dataframe(\n",
    "        val_df,\n",
    "        x_col=\"path\",\n",
    "        y_col=\"level\",\n",
    "        directory=\".\",\n",
    "        target_size=(256, 256),\n",
    "        batch_size=32,\n",
    "        class_mode='categorical')"
   ]
  },
  {
   "cell_type": "code",
   "execution_count": 15,
   "id": "368a1cbc",
   "metadata": {
    "execution": {
     "iopub.execute_input": "2024-07-27T16:20:59.825586Z",
     "iopub.status.busy": "2024-07-27T16:20:59.822564Z",
     "iopub.status.idle": "2024-07-27T16:20:59.902876Z",
     "shell.execute_reply": "2024-07-27T16:20:59.902237Z",
     "shell.execute_reply.started": "2024-07-27T14:20:46.344806Z"
    },
    "papermill": {
     "duration": 0.199872,
     "end_time": "2024-07-27T16:20:59.903035",
     "exception": false,
     "start_time": "2024-07-27T16:20:59.703163",
     "status": "completed"
    },
    "tags": []
   },
   "outputs": [],
   "source": [
    "import itertools\n",
    "def plot_confusion_matrix(cm, classes,\n",
    "                          normalize=False,\n",
    "                          title='Confusion matrix',\n",
    "                          cmap=plt.cm.Blues):\n",
    "    \"\"\"\n",
    "    This function prints and plots the confusion matrix.\n",
    "    Normalization can be applied by setting `normalize=True`.\n",
    "    \"\"\"\n",
    "    plt.figure(figsize = (6,6))\n",
    "    plt.imshow(cm, interpolation='nearest', cmap=cmap)\n",
    "    plt.title(title)\n",
    "    plt.colorbar()\n",
    "    tick_marks = np.arange(len(classes))\n",
    "    plt.xticks(tick_marks, classes, rotation=90)\n",
    "    plt.yticks(tick_marks, classes)\n",
    "    if normalize:\n",
    "        cm = cm.astype('float') / cm.sum(axis=1)[:, np.newaxis]\n",
    "\n",
    "    thresh = cm.max() / 2.\n",
    "    cm = np.round(cm,2)\n",
    "    for i, j in itertools.product(range(cm.shape[0]), range(cm.shape[1])):\n",
    "        plt.text(j, i, cm[i, j],\n",
    "                 horizontalalignment=\"center\",\n",
    "                 color=\"white\" if cm[i, j] > thresh else \"black\")\n",
    "    plt.tight_layout()\n",
    "    plt.ylabel('True label')\n",
    "    plt.xlabel('Predicted label')\n",
    "    plt.show()"
   ]
  },
  {
   "cell_type": "markdown",
   "id": "c02a07e9",
   "metadata": {
    "papermill": {
     "duration": 0.11328,
     "end_time": "2024-07-27T16:21:00.127692",
     "exception": false,
     "start_time": "2024-07-27T16:21:00.014412",
     "status": "completed"
    },
    "tags": []
   },
   "source": [
    "## Image Data Generator"
   ]
  },
  {
   "cell_type": "code",
   "execution_count": 16,
   "id": "2cdf8346",
   "metadata": {
    "execution": {
     "iopub.execute_input": "2024-07-27T16:21:00.358607Z",
     "iopub.status.busy": "2024-07-27T16:21:00.357799Z",
     "iopub.status.idle": "2024-07-27T16:21:00.434764Z",
     "shell.execute_reply": "2024-07-27T16:21:00.434100Z",
     "shell.execute_reply.started": "2024-07-27T14:20:46.419625Z"
    },
    "papermill": {
     "duration": 0.193217,
     "end_time": "2024-07-27T16:21:00.434922",
     "exception": false,
     "start_time": "2024-07-27T16:21:00.241705",
     "status": "completed"
    },
    "tags": []
   },
   "outputs": [],
   "source": [
    "train_datagen = ImageDataGenerator(\n",
    "        rescale=1./255,\n",
    "        shear_range=0.2,\n",
    "        zoom_range=0.2,\n",
    "        horizontal_flip=True)\n",
    "test_datagen = ImageDataGenerator(rescale=1./255)"
   ]
  },
  {
   "cell_type": "code",
   "execution_count": 17,
   "id": "d89da91c",
   "metadata": {
    "execution": {
     "iopub.execute_input": "2024-07-27T16:21:00.665969Z",
     "iopub.status.busy": "2024-07-27T16:21:00.665217Z",
     "iopub.status.idle": "2024-07-27T16:21:06.067767Z",
     "shell.execute_reply": "2024-07-27T16:21:06.067058Z",
     "shell.execute_reply.started": "2024-07-27T14:20:46.486917Z"
    },
    "papermill": {
     "duration": 5.51963,
     "end_time": "2024-07-27T16:21:06.067942",
     "exception": false,
     "start_time": "2024-07-27T16:21:00.548312",
     "status": "completed"
    },
    "tags": []
   },
   "outputs": [],
   "source": [
    "t_x, t_y = next(x_train)\n"
   ]
  },
  {
   "cell_type": "markdown",
   "id": "33bc69d9",
   "metadata": {
    "papermill": {
     "duration": 0.112092,
     "end_time": "2024-07-27T16:21:06.289974",
     "exception": false,
     "start_time": "2024-07-27T16:21:06.177882",
     "status": "completed"
    },
    "tags": []
   },
   "source": [
    "## Showing some pics"
   ]
  },
  {
   "cell_type": "code",
   "execution_count": 18,
   "id": "70e5296e",
   "metadata": {
    "execution": {
     "iopub.execute_input": "2024-07-27T16:21:06.517039Z",
     "iopub.status.busy": "2024-07-27T16:21:06.516319Z",
     "iopub.status.idle": "2024-07-27T16:21:06.591475Z",
     "shell.execute_reply": "2024-07-27T16:21:06.590843Z",
     "shell.execute_reply.started": "2024-07-27T14:20:50.473756Z"
    },
    "papermill": {
     "duration": 0.190218,
     "end_time": "2024-07-27T16:21:06.591652",
     "exception": false,
     "start_time": "2024-07-27T16:21:06.401434",
     "status": "completed"
    },
    "tags": []
   },
   "outputs": [],
   "source": [
    "# plt.figure(figsize=(10, 10))\n",
    "# for images, labels in x_train.take(1):\n",
    "#   for i in range(6):\n",
    "#     ax = plt.subplot(3, 3, i + 1)\n",
    "#     plt.imshow(images[i].numpy().astype(\"uint8\"))\n",
    "#     plt.title(classnames[labels[i]])\n",
    "#     plt.axis(\"off\")"
   ]
  },
  {
   "cell_type": "markdown",
   "id": "aabb8bca",
   "metadata": {
    "papermill": {
     "duration": 0.110749,
     "end_time": "2024-07-27T16:21:06.812046",
     "exception": false,
     "start_time": "2024-07-27T16:21:06.701297",
     "status": "completed"
    },
    "tags": []
   },
   "source": [
    "## CNN Models"
   ]
  },
  {
   "cell_type": "code",
   "execution_count": 19,
   "id": "088b60ff",
   "metadata": {
    "execution": {
     "iopub.execute_input": "2024-07-27T16:21:07.046196Z",
     "iopub.status.busy": "2024-07-27T16:21:07.045462Z",
     "iopub.status.idle": "2024-07-27T16:21:07.123446Z",
     "shell.execute_reply": "2024-07-27T16:21:07.122718Z",
     "shell.execute_reply.started": "2024-07-27T14:20:50.539798Z"
    },
    "papermill": {
     "duration": 0.202508,
     "end_time": "2024-07-27T16:21:07.123633",
     "exception": false,
     "start_time": "2024-07-27T16:21:06.921125",
     "status": "completed"
    },
    "tags": []
   },
   "outputs": [],
   "source": [
    "def create_CNN_model(model):\n",
    "    model.add(Conv2D(32, (3, 3), padding='same', activation='relu', input_shape=(264,264,3)))\n",
    "    model.add(MaxPooling2D(pool_size=(2, 2)))\n",
    "    model.add(Dropout(0.25))\n",
    "\n",
    "    model.add(Conv2D(64, (3, 3), padding='same', activation='relu'))\n",
    "    model.add(Conv2D(64, (3, 3), padding='same', activation='relu'))\n",
    "    model.add(MaxPooling2D(pool_size=(2, 2)))\n",
    "    model.add(Dropout(0.25))\n",
    "\n",
    "    model.add(Conv2D(128, (3, 3), padding='same', activation='relu'))\n",
    "    model.add(Conv2D(128, (3, 3), padding='same', activation='relu'))\n",
    "    model.add(MaxPooling2D(pool_size=(2, 2)))\n",
    "    model.add(Dropout(0.25))\n",
    "\n",
    "    model.add(Conv2D(256, (3, 3), padding='same', activation='relu'))\n",
    "    model.add(Conv2D(256, (3, 3), padding='same', activation='relu'))\n",
    "    model.add(MaxPooling2D(pool_size=(2, 2)))\n",
    "    model.add(Dropout(0.25))\n",
    "\n",
    "    model.add(Conv2D(128, (3, 3), padding='same', activation='relu'))\n",
    "    model.add(Conv2D(128, (3, 3), padding='same', activation='relu'))\n",
    "    model.add(MaxPooling2D(pool_size=(2, 2)))\n",
    "    model.add(Dropout(0.25))"
   ]
  },
  {
   "cell_type": "code",
   "execution_count": 20,
   "id": "3696c8eb",
   "metadata": {
    "execution": {
     "iopub.execute_input": "2024-07-27T16:21:07.370018Z",
     "iopub.status.busy": "2024-07-27T16:21:07.368819Z",
     "iopub.status.idle": "2024-07-27T16:21:14.245812Z",
     "shell.execute_reply": "2024-07-27T16:21:14.244987Z",
     "shell.execute_reply.started": "2024-07-27T14:20:50.613847Z"
    },
    "papermill": {
     "duration": 7.008416,
     "end_time": "2024-07-27T16:21:14.245977",
     "exception": false,
     "start_time": "2024-07-27T16:21:07.237561",
     "status": "completed"
    },
    "tags": []
   },
   "outputs": [
    {
     "name": "stdout",
     "output_type": "stream",
     "text": [
      "Downloading data from https://storage.googleapis.com/tensorflow/keras-applications/inception_v3/inception_v3_weights_tf_dim_ordering_tf_kernels_notop.h5\n",
      "87916544/87910968 [==============================] - 1s 0us/step\n",
      "87924736/87910968 [==============================] - 1s 0us/step\n",
      "Model: \"model\"\n",
      "__________________________________________________________________________________________________\n",
      "Layer (type)                    Output Shape         Param #     Connected to                     \n",
      "==================================================================================================\n",
      "input_1 (InputLayer)            [(None, 256, 256, 3) 0                                            \n",
      "__________________________________________________________________________________________________\n",
      "inception_v3 (Functional)       (None, 6, 6, 2048)   21802784    input_1[0][0]                    \n",
      "__________________________________________________________________________________________________\n",
      "batch_normalization_94 (BatchNo (None, 6, 6, 2048)   8192        inception_v3[0][0]               \n",
      "__________________________________________________________________________________________________\n",
      "dropout (Dropout)               (None, 6, 6, 2048)   0           batch_normalization_94[0][0]     \n",
      "__________________________________________________________________________________________________\n",
      "conv2d_94 (Conv2D)              (None, 6, 6, 64)     131136      dropout[0][0]                    \n",
      "__________________________________________________________________________________________________\n",
      "conv2d_95 (Conv2D)              (None, 6, 6, 16)     1040        conv2d_94[0][0]                  \n",
      "__________________________________________________________________________________________________\n",
      "conv2d_96 (Conv2D)              (None, 6, 6, 8)      136         conv2d_95[0][0]                  \n",
      "__________________________________________________________________________________________________\n",
      "conv2d_97 (Conv2D)              (None, 6, 6, 1)      9           conv2d_96[0][0]                  \n",
      "__________________________________________________________________________________________________\n",
      "conv2d_98 (Conv2D)              (None, 6, 6, 2048)   2048        conv2d_97[0][0]                  \n",
      "__________________________________________________________________________________________________\n",
      "multiply (Multiply)             (None, 6, 6, 2048)   0           conv2d_98[0][0]                  \n",
      "                                                                 batch_normalization_94[0][0]     \n",
      "__________________________________________________________________________________________________\n",
      "global_average_pooling2d (Globa (None, 2048)         0           multiply[0][0]                   \n",
      "__________________________________________________________________________________________________\n",
      "global_average_pooling2d_1 (Glo (None, 2048)         0           conv2d_98[0][0]                  \n",
      "__________________________________________________________________________________________________\n",
      "RescaleGAP (Lambda)             (None, 2048)         0           global_average_pooling2d[0][0]   \n",
      "                                                                 global_average_pooling2d_1[0][0] \n",
      "__________________________________________________________________________________________________\n",
      "dropout_1 (Dropout)             (None, 2048)         0           RescaleGAP[0][0]                 \n",
      "__________________________________________________________________________________________________\n",
      "dense (Dense)                   (None, 128)          262272      dropout_1[0][0]                  \n",
      "__________________________________________________________________________________________________\n",
      "dropout_2 (Dropout)             (None, 128)          0           dense[0][0]                      \n",
      "__________________________________________________________________________________________________\n",
      "dense_1 (Dense)                 (None, 5)            645         dropout_2[0][0]                  \n",
      "==================================================================================================\n",
      "Total params: 22,208,262\n",
      "Trainable params: 399,334\n",
      "Non-trainable params: 21,808,928\n",
      "__________________________________________________________________________________________________\n"
     ]
    }
   ],
   "source": [
    "# def create_models(model_type):\n",
    "#     model = Sequential()\n",
    "#     if (model_type==\"cnn\"):\n",
    "#         create_CNN_model(model)\n",
    "#     elif(model_type == \"resnet\"):\n",
    "#         pretrained_model= tf.keras.applications.ResNet50(include_top=False,\n",
    "#                    input_shape=(256,256,3),\n",
    "#                    pooling='avg',classes=5,\n",
    "#                    weights='imagenet')\n",
    "#         for layer in pretrained_model.layers:\n",
    "#                 layer.trainable=False\n",
    "\n",
    "#         model.add(pretrained_model)\n",
    "#     elif(model_type == \"googlenet\"):\n",
    "#         pretrained_model = tf.keras.applications.InceptionV3(\n",
    "#                     include_top=True,\n",
    "#                     weights=\"imagenet\",\n",
    "#                     input_shape=(299,299,3),\n",
    "#                     pooling='avg',\n",
    "#                     classes=1000)\n",
    "#         for layer in pretrained_model.layers:\n",
    "#                 layer.trainable=False\n",
    "#         model.add(pretrained_model)\n",
    "        \n",
    "#     model.add(Flatten())\n",
    "#     model.add(Dense(512, activation='relu'))\n",
    "#     model.add(Dropout(0.5))\n",
    "#     model.add(Dense(256, activation='relu'))\n",
    "#     model.add(Dropout(0.5))\n",
    "#     model.add(Dense(128, activation='relu'))\n",
    "#     model.add(Dropout(0.5))\n",
    "#     model.add(Dense(5, activation='softmax'))\n",
    "\n",
    "#     model.compile(loss='categorical_crossentropy',\n",
    "#                   optimizer=Adam(learning_rate=0.002),\n",
    "#                   metrics=['accuracy',\"AUC\"])\n",
    "#     return model;\n",
    "\n",
    "from keras.applications.vgg16 import VGG16 as PTModel\n",
    "from keras.applications.inception_resnet_v2 import InceptionResNetV2 as PTModel\n",
    "from keras.applications.inception_v3 import InceptionV3 as PTModel\n",
    "from keras.layers import GlobalAveragePooling2D, Dense, Dropout, Flatten, Input, Conv2D, multiply, LocallyConnected2D, Lambda\n",
    "from keras.models import Model\n",
    "in_lay = Input(t_x.shape[1:])\n",
    "base_pretrained_model = PTModel(input_shape =  t_x.shape[1:], include_top = False, weights = 'imagenet')\n",
    "base_pretrained_model.trainable = False\n",
    "pt_depth = 2048\n",
    "pt_features = base_pretrained_model(in_lay)\n",
    "from keras.layers import BatchNormalization\n",
    "bn_features = BatchNormalization()(pt_features)\n",
    "\n",
    "# here we do an attention mechanism to turn pixels in the GAP on an off\n",
    "\n",
    "attn_layer = Conv2D(64, kernel_size = (1,1), padding = 'same', activation = 'relu')(Dropout(0.5)(bn_features))\n",
    "attn_layer = Conv2D(16, kernel_size = (1,1), padding = 'same', activation = 'relu')(attn_layer)\n",
    "attn_layer = Conv2D(8, kernel_size = (1,1), padding = 'same', activation = 'relu')(attn_layer)\n",
    "attn_layer = Conv2D(1, \n",
    "                    kernel_size = (1,1), \n",
    "                    padding = 'valid', \n",
    "                    activation = 'sigmoid')(attn_layer)\n",
    "# fan it out to all of the channels\n",
    "up_c2_w = np.ones((1, 1, 1, pt_depth))\n",
    "up_c2 = Conv2D(pt_depth, kernel_size = (1,1), padding = 'same', \n",
    "               activation = 'linear', use_bias = False, weights = [up_c2_w])\n",
    "up_c2.trainable = False\n",
    "attn_layer = up_c2(attn_layer)\n",
    "\n",
    "mask_features = multiply([attn_layer, bn_features])\n",
    "gap_features = GlobalAveragePooling2D()(mask_features)\n",
    "gap_mask = GlobalAveragePooling2D()(attn_layer)\n",
    "# to account for missing values from the attention model\n",
    "gap = Lambda(lambda x: x[0]/x[1], name = 'RescaleGAP')([gap_features, gap_mask])\n",
    "gap_dr = Dropout(0.25)(gap)\n",
    "dr_steps = Dropout(0.25)(Dense(128, activation = 'relu')(gap_dr))\n",
    "out_layer = Dense(t_y.shape[-1], activation = 'softmax')(dr_steps)\n",
    "model = Model(inputs = [in_lay], outputs = [out_layer])\n",
    "from keras.metrics import top_k_categorical_accuracy\n",
    "def top_2_accuracy(in_gt, in_pred):\n",
    "    return top_k_categorical_accuracy(in_gt, in_pred, k=2)\n",
    "\n",
    "model.compile(optimizer = 'adam', loss = 'categorical_crossentropy',\n",
    "                           metrics = ['categorical_accuracy', top_2_accuracy])\n",
    "model.summary()"
   ]
  },
  {
   "cell_type": "code",
   "execution_count": 21,
   "id": "973c2262",
   "metadata": {
    "execution": {
     "iopub.execute_input": "2024-07-27T16:21:14.486957Z",
     "iopub.status.busy": "2024-07-27T16:21:14.486120Z",
     "iopub.status.idle": "2024-07-27T16:21:14.576475Z",
     "shell.execute_reply": "2024-07-27T16:21:14.575846Z",
     "shell.execute_reply.started": "2024-07-27T14:21:00.707021Z"
    },
    "papermill": {
     "duration": 0.211825,
     "end_time": "2024-07-27T16:21:14.576647",
     "exception": false,
     "start_time": "2024-07-27T16:21:14.364822",
     "status": "completed"
    },
    "tags": []
   },
   "outputs": [],
   "source": [
    "# model = create_models(\"googlenet\")"
   ]
  },
  {
   "cell_type": "code",
   "execution_count": 22,
   "id": "c1b768ce",
   "metadata": {
    "execution": {
     "iopub.execute_input": "2024-07-27T16:21:14.823737Z",
     "iopub.status.busy": "2024-07-27T16:21:14.822966Z",
     "iopub.status.idle": "2024-07-27T16:21:14.925719Z",
     "shell.execute_reply": "2024-07-27T16:21:14.924932Z",
     "shell.execute_reply.started": "2024-07-27T14:21:00.775597Z"
    },
    "papermill": {
     "duration": 0.227957,
     "end_time": "2024-07-27T16:21:14.925881",
     "exception": false,
     "start_time": "2024-07-27T16:21:14.697924",
     "status": "completed"
    },
    "tags": []
   },
   "outputs": [
    {
     "name": "stdout",
     "output_type": "stream",
     "text": [
      "Model: \"model\"\n",
      "__________________________________________________________________________________________________\n",
      "Layer (type)                    Output Shape         Param #     Connected to                     \n",
      "==================================================================================================\n",
      "input_1 (InputLayer)            [(None, 256, 256, 3) 0                                            \n",
      "__________________________________________________________________________________________________\n",
      "inception_v3 (Functional)       (None, 6, 6, 2048)   21802784    input_1[0][0]                    \n",
      "__________________________________________________________________________________________________\n",
      "batch_normalization_94 (BatchNo (None, 6, 6, 2048)   8192        inception_v3[0][0]               \n",
      "__________________________________________________________________________________________________\n",
      "dropout (Dropout)               (None, 6, 6, 2048)   0           batch_normalization_94[0][0]     \n",
      "__________________________________________________________________________________________________\n",
      "conv2d_94 (Conv2D)              (None, 6, 6, 64)     131136      dropout[0][0]                    \n",
      "__________________________________________________________________________________________________\n",
      "conv2d_95 (Conv2D)              (None, 6, 6, 16)     1040        conv2d_94[0][0]                  \n",
      "__________________________________________________________________________________________________\n",
      "conv2d_96 (Conv2D)              (None, 6, 6, 8)      136         conv2d_95[0][0]                  \n",
      "__________________________________________________________________________________________________\n",
      "conv2d_97 (Conv2D)              (None, 6, 6, 1)      9           conv2d_96[0][0]                  \n",
      "__________________________________________________________________________________________________\n",
      "conv2d_98 (Conv2D)              (None, 6, 6, 2048)   2048        conv2d_97[0][0]                  \n",
      "__________________________________________________________________________________________________\n",
      "multiply (Multiply)             (None, 6, 6, 2048)   0           conv2d_98[0][0]                  \n",
      "                                                                 batch_normalization_94[0][0]     \n",
      "__________________________________________________________________________________________________\n",
      "global_average_pooling2d (Globa (None, 2048)         0           multiply[0][0]                   \n",
      "__________________________________________________________________________________________________\n",
      "global_average_pooling2d_1 (Glo (None, 2048)         0           conv2d_98[0][0]                  \n",
      "__________________________________________________________________________________________________\n",
      "RescaleGAP (Lambda)             (None, 2048)         0           global_average_pooling2d[0][0]   \n",
      "                                                                 global_average_pooling2d_1[0][0] \n",
      "__________________________________________________________________________________________________\n",
      "dropout_1 (Dropout)             (None, 2048)         0           RescaleGAP[0][0]                 \n",
      "__________________________________________________________________________________________________\n",
      "dense (Dense)                   (None, 128)          262272      dropout_1[0][0]                  \n",
      "__________________________________________________________________________________________________\n",
      "dropout_2 (Dropout)             (None, 128)          0           dense[0][0]                      \n",
      "__________________________________________________________________________________________________\n",
      "dense_1 (Dense)                 (None, 5)            645         dropout_2[0][0]                  \n",
      "==================================================================================================\n",
      "Total params: 22,208,262\n",
      "Trainable params: 399,334\n",
      "Non-trainable params: 21,808,928\n",
      "__________________________________________________________________________________________________\n"
     ]
    }
   ],
   "source": [
    "model.summary()"
   ]
  },
  {
   "cell_type": "markdown",
   "id": "90d47e84",
   "metadata": {
    "papermill": {
     "duration": 0.11786,
     "end_time": "2024-07-27T16:21:15.161449",
     "exception": false,
     "start_time": "2024-07-27T16:21:15.043589",
     "status": "completed"
    },
    "tags": []
   },
   "source": [
    "## Callbacks for Parameter Tuning"
   ]
  },
  {
   "cell_type": "code",
   "execution_count": 23,
   "id": "f80a1a03",
   "metadata": {
    "execution": {
     "iopub.execute_input": "2024-07-27T16:21:15.404913Z",
     "iopub.status.busy": "2024-07-27T16:21:15.404166Z",
     "iopub.status.idle": "2024-07-27T16:21:15.479111Z",
     "shell.execute_reply": "2024-07-27T16:21:15.478479Z",
     "shell.execute_reply.started": "2024-07-27T14:21:00.867514Z"
    },
    "papermill": {
     "duration": 0.198788,
     "end_time": "2024-07-27T16:21:15.479259",
     "exception": false,
     "start_time": "2024-07-27T16:21:15.280471",
     "status": "completed"
    },
    "tags": []
   },
   "outputs": [],
   "source": [
    "filepath = \"dr-detector.hdf5\"\n",
    "checkpoint = ModelCheckpoint(filepath,\n",
    "                             monitor=\"val_top2_accuracy\",\n",
    "                             verbose=1,\n",
    "                             save_best_only=True,\n",
    "                             mode=\"max\")\n",
    "\n",
    "earlystop = EarlyStopping(monitor='val_categorical_accuracy',\n",
    "                          verbose=1, \n",
    "                          min_delta=0, \n",
    "                          patience=15, \n",
    "                          restore_best_weights=True)\n",
    "\n",
    "reduce_lr = ReduceLROnPlateau(monitor='val_loss', \n",
    "                              verbose=1,\n",
    "                              factor=0.2, \n",
    "                              patience=6, \n",
    "                              min_delta=0.0001,\n",
    "                              cooldown=0,\n",
    "                              min_lr=0.001)\n",
    "\n",
    "\n",
    "callbacks = [checkpoint, earlystop, reduce_lr]"
   ]
  },
  {
   "cell_type": "code",
   "execution_count": 24,
   "id": "c8075eb4",
   "metadata": {
    "execution": {
     "iopub.execute_input": "2024-07-27T16:21:15.720692Z",
     "iopub.status.busy": "2024-07-27T16:21:15.719941Z",
     "iopub.status.idle": "2024-07-27T17:52:18.583707Z",
     "shell.execute_reply": "2024-07-27T17:52:18.582932Z",
     "shell.execute_reply.started": "2024-07-27T14:21:00.937629Z"
    },
    "papermill": {
     "duration": 5462.986452,
     "end_time": "2024-07-27T17:52:18.583898",
     "exception": false,
     "start_time": "2024-07-27T16:21:15.597446",
     "status": "completed"
    },
    "tags": []
   },
   "outputs": [
    {
     "name": "stdout",
     "output_type": "stream",
     "text": [
      "Epoch 1/50\n",
      "37/37 [==============================] - 193s 5s/step - loss: 1.1621 - categorical_accuracy: 0.5270 - top_2_accuracy: 0.7466 - val_loss: 2.3683 - val_categorical_accuracy: 0.0938 - val_top_2_accuracy: 0.2969\n",
      "Epoch 2/50\n",
      "37/37 [==============================] - 186s 5s/step - loss: 0.7865 - categorical_accuracy: 0.6841 - top_2_accuracy: 0.8666 - val_loss: 1.8130 - val_categorical_accuracy: 0.2188 - val_top_2_accuracy: 0.4844\n",
      "Epoch 3/50\n",
      "37/37 [==============================] - 189s 5s/step - loss: 0.6179 - categorical_accuracy: 0.7542 - top_2_accuracy: 0.9147 - val_loss: 1.5669 - val_categorical_accuracy: 0.3281 - val_top_2_accuracy: 0.6406\n",
      "Epoch 4/50\n",
      "37/37 [==============================] - 186s 5s/step - loss: 0.5342 - categorical_accuracy: 0.7779 - top_2_accuracy: 0.9383 - val_loss: 1.2414 - val_categorical_accuracy: 0.4688 - val_top_2_accuracy: 0.8125\n",
      "Epoch 5/50\n",
      "37/37 [==============================] - 188s 5s/step - loss: 0.4903 - categorical_accuracy: 0.8167 - top_2_accuracy: 0.9451 - val_loss: 1.2711 - val_categorical_accuracy: 0.3750 - val_top_2_accuracy: 0.7969\n",
      "Epoch 6/50\n",
      "37/37 [==============================] - 178s 5s/step - loss: 0.4065 - categorical_accuracy: 0.8370 - top_2_accuracy: 0.9595 - val_loss: 1.5962 - val_categorical_accuracy: 0.4375 - val_top_2_accuracy: 0.7656\n",
      "Epoch 7/50\n",
      "37/37 [==============================] - 186s 5s/step - loss: 0.3674 - categorical_accuracy: 0.8657 - top_2_accuracy: 0.9704 - val_loss: 1.4179 - val_categorical_accuracy: 0.4688 - val_top_2_accuracy: 0.8281\n",
      "Epoch 8/50\n",
      "37/37 [==============================] - 185s 5s/step - loss: 0.3888 - categorical_accuracy: 0.8480 - top_2_accuracy: 0.9595 - val_loss: 1.0849 - val_categorical_accuracy: 0.6094 - val_top_2_accuracy: 0.8750\n",
      "Epoch 9/50\n",
      "37/37 [==============================] - 191s 5s/step - loss: 0.3346 - categorical_accuracy: 0.8716 - top_2_accuracy: 0.9696 - val_loss: 1.3242 - val_categorical_accuracy: 0.4688 - val_top_2_accuracy: 0.7812\n",
      "Epoch 10/50\n",
      "37/37 [==============================] - 179s 5s/step - loss: 0.3112 - categorical_accuracy: 0.8826 - top_2_accuracy: 0.9721 - val_loss: 1.2708 - val_categorical_accuracy: 0.4219 - val_top_2_accuracy: 0.8594\n",
      "Epoch 11/50\n",
      "37/37 [==============================] - 183s 5s/step - loss: 0.3047 - categorical_accuracy: 0.8927 - top_2_accuracy: 0.9721 - val_loss: 1.1840 - val_categorical_accuracy: 0.5469 - val_top_2_accuracy: 0.8438\n",
      "Epoch 12/50\n",
      "37/37 [==============================] - 177s 5s/step - loss: 0.2725 - categorical_accuracy: 0.8944 - top_2_accuracy: 0.9865 - val_loss: 1.6432 - val_categorical_accuracy: 0.4219 - val_top_2_accuracy: 0.8125\n",
      "Epoch 13/50\n",
      "37/37 [==============================] - 182s 5s/step - loss: 0.2586 - categorical_accuracy: 0.9062 - top_2_accuracy: 0.9797 - val_loss: 1.0072 - val_categorical_accuracy: 0.6250 - val_top_2_accuracy: 0.8438\n",
      "Epoch 14/50\n",
      "37/37 [==============================] - 180s 5s/step - loss: 0.2556 - categorical_accuracy: 0.8995 - top_2_accuracy: 0.9772 - val_loss: 1.4264 - val_categorical_accuracy: 0.5938 - val_top_2_accuracy: 0.8438\n",
      "Epoch 15/50\n",
      "37/37 [==============================] - 178s 5s/step - loss: 0.2644 - categorical_accuracy: 0.9062 - top_2_accuracy: 0.9797 - val_loss: 1.0638 - val_categorical_accuracy: 0.6875 - val_top_2_accuracy: 0.9062\n",
      "Epoch 16/50\n",
      "37/37 [==============================] - 179s 5s/step - loss: 0.2581 - categorical_accuracy: 0.9046 - top_2_accuracy: 0.9789 - val_loss: 1.4238 - val_categorical_accuracy: 0.5938 - val_top_2_accuracy: 0.8594\n",
      "Epoch 17/50\n",
      "37/37 [==============================] - 179s 5s/step - loss: 0.2332 - categorical_accuracy: 0.9062 - top_2_accuracy: 0.9907 - val_loss: 1.4085 - val_categorical_accuracy: 0.6250 - val_top_2_accuracy: 0.7969\n",
      "Epoch 18/50\n",
      "37/37 [==============================] - 182s 5s/step - loss: 0.2317 - categorical_accuracy: 0.9172 - top_2_accuracy: 0.9848 - val_loss: 1.1297 - val_categorical_accuracy: 0.6250 - val_top_2_accuracy: 0.9219\n",
      "Epoch 19/50\n",
      "37/37 [==============================] - 180s 5s/step - loss: 0.2014 - categorical_accuracy: 0.9139 - top_2_accuracy: 0.9882 - val_loss: 1.5443 - val_categorical_accuracy: 0.5469 - val_top_2_accuracy: 0.8125\n",
      "Epoch 20/50\n",
      "37/37 [==============================] - 180s 5s/step - loss: 0.1898 - categorical_accuracy: 0.9307 - top_2_accuracy: 0.9882 - val_loss: 1.1855 - val_categorical_accuracy: 0.5781 - val_top_2_accuracy: 0.7656\n",
      "Epoch 21/50\n",
      "37/37 [==============================] - 183s 5s/step - loss: 0.1946 - categorical_accuracy: 0.9307 - top_2_accuracy: 0.9924 - val_loss: 0.8969 - val_categorical_accuracy: 0.6406 - val_top_2_accuracy: 0.9219\n",
      "Epoch 22/50\n",
      "37/37 [==============================] - 176s 5s/step - loss: 0.1789 - categorical_accuracy: 0.9443 - top_2_accuracy: 0.9924 - val_loss: 1.3278 - val_categorical_accuracy: 0.6094 - val_top_2_accuracy: 0.9062\n",
      "Epoch 23/50\n",
      "37/37 [==============================] - 174s 5s/step - loss: 0.1674 - categorical_accuracy: 0.9443 - top_2_accuracy: 0.9924 - val_loss: 1.6444 - val_categorical_accuracy: 0.5312 - val_top_2_accuracy: 0.8438\n",
      "Epoch 24/50\n",
      "37/37 [==============================] - 178s 5s/step - loss: 0.1491 - categorical_accuracy: 0.9426 - top_2_accuracy: 0.9932 - val_loss: 1.2779 - val_categorical_accuracy: 0.5781 - val_top_2_accuracy: 0.8906\n",
      "Epoch 25/50\n",
      "37/37 [==============================] - 174s 5s/step - loss: 0.1740 - categorical_accuracy: 0.9358 - top_2_accuracy: 0.9890 - val_loss: 1.1398 - val_categorical_accuracy: 0.6562 - val_top_2_accuracy: 0.8750\n",
      "Epoch 26/50\n",
      "37/37 [==============================] - 183s 5s/step - loss: 0.1633 - categorical_accuracy: 0.9324 - top_2_accuracy: 0.9932 - val_loss: 1.5059 - val_categorical_accuracy: 0.4844 - val_top_2_accuracy: 0.8594\n",
      "Epoch 27/50\n",
      "37/37 [==============================] - 171s 5s/step - loss: 0.1731 - categorical_accuracy: 0.9375 - top_2_accuracy: 0.9890 - val_loss: 1.1695 - val_categorical_accuracy: 0.6094 - val_top_2_accuracy: 0.8750\n",
      "Epoch 28/50\n",
      "37/37 [==============================] - 180s 5s/step - loss: 0.1574 - categorical_accuracy: 0.9383 - top_2_accuracy: 0.9899 - val_loss: 1.2231 - val_categorical_accuracy: 0.5938 - val_top_2_accuracy: 0.8906\n",
      "Epoch 29/50\n",
      "37/37 [==============================] - 178s 5s/step - loss: 0.1463 - categorical_accuracy: 0.9392 - top_2_accuracy: 0.9932 - val_loss: 1.2157 - val_categorical_accuracy: 0.5469 - val_top_2_accuracy: 0.9375\n",
      "Epoch 30/50\n",
      "37/37 [==============================] - 173s 5s/step - loss: 0.1517 - categorical_accuracy: 0.9417 - top_2_accuracy: 0.9983 - val_loss: 1.2928 - val_categorical_accuracy: 0.5781 - val_top_2_accuracy: 0.8594\n",
      "Restoring model weights from the end of the best epoch.\n",
      "Epoch 00030: early stopping\n"
     ]
    }
   ],
   "source": [
    "history = model.fit(\n",
    "        x_train,\n",
    "        steps_per_epoch=x_train.samples // 64,\n",
    "        epochs=50,\n",
    "        validation_data=x_test,\n",
    "        validation_steps=x_test.samples // 64,\n",
    "        callbacks=callbacks)\n",
    "model.save_weights(\"dr_messidor.h5\")\n"
   ]
  },
  {
   "cell_type": "code",
   "execution_count": 25,
   "id": "af957e66",
   "metadata": {
    "execution": {
     "iopub.execute_input": "2024-07-27T17:52:19.881079Z",
     "iopub.status.busy": "2024-07-27T17:52:19.880305Z",
     "iopub.status.idle": "2024-07-27T17:58:26.147579Z",
     "shell.execute_reply": "2024-07-27T17:58:26.146924Z",
     "shell.execute_reply.started": "2024-07-27T15:54:45.792295Z"
    },
    "papermill": {
     "duration": 366.884037,
     "end_time": "2024-07-27T17:58:26.147762",
     "exception": false,
     "start_time": "2024-07-27T17:52:19.263725",
     "status": "completed"
    },
    "tags": []
   },
   "outputs": [
    {
     "name": "stdout",
     "output_type": "stream",
     "text": [
      "75/75 [==============================] - 335s 4s/step - loss: 0.1487 - categorical_accuracy: 0.9479 - top_2_accuracy: 0.9937\n",
      "6/6 [==============================] - 23s 4s/step - loss: 1.1467 - categorical_accuracy: 0.6343 - top_2_accuracy: 0.8971\n",
      "Final training accuracy = 94.79 , validation accuracy = 63.43\n",
      "Final training loss = 0.15 , validation loss = 1.15\n"
     ]
    }
   ],
   "source": [
    "# Evaluate on training and test data\n",
    "train_results = model.evaluate(x_train, verbose=1)\n",
    "test_results = model.evaluate(x_test, verbose=1)\n",
    "\n",
    "# Extract the loss and accuracy values\n",
    "train_loss = train_results[0]\n",
    "train_accu = train_results[1]\n",
    "test_loss = test_results[0]\n",
    "test_accu = test_results[1]\n",
    "\n",
    "# Print results\n",
    "print(\"Final training accuracy = {:.2f} , validation accuracy = {:.2f}\".format(train_accu*100, test_accu*100))\n",
    "print(\"Final training loss = {:.2f} , validation loss = {:.2f}\".format(train_loss, test_loss))\n"
   ]
  },
  {
   "cell_type": "code",
   "execution_count": 26,
   "id": "7ee9ab60",
   "metadata": {
    "execution": {
     "iopub.execute_input": "2024-07-27T17:58:27.490779Z",
     "iopub.status.busy": "2024-07-27T17:58:27.490084Z",
     "iopub.status.idle": "2024-07-27T17:58:27.560114Z",
     "shell.execute_reply": "2024-07-27T17:58:27.560742Z",
     "shell.execute_reply.started": "2024-07-27T16:05:05.811571Z"
    },
    "papermill": {
     "duration": 0.742728,
     "end_time": "2024-07-27T17:58:27.560947",
     "exception": false,
     "start_time": "2024-07-27T17:58:26.818219",
     "status": "completed"
    },
    "tags": []
   },
   "outputs": [
    {
     "name": "stdout",
     "output_type": "stream",
     "text": [
      "dict_keys(['loss', 'categorical_accuracy', 'top_2_accuracy', 'val_loss', 'val_categorical_accuracy', 'val_top_2_accuracy', 'lr'])\n"
     ]
    }
   ],
   "source": [
    "history.history\n",
    "print(history.history.keys())\n"
   ]
  },
  {
   "cell_type": "code",
   "execution_count": 27,
   "id": "a6ec5d75",
   "metadata": {
    "execution": {
     "iopub.execute_input": "2024-07-27T17:58:28.893226Z",
     "iopub.status.busy": "2024-07-27T17:58:28.892476Z",
     "iopub.status.idle": "2024-07-27T17:58:29.351295Z",
     "shell.execute_reply": "2024-07-27T17:58:29.350678Z",
     "shell.execute_reply.started": "2024-07-27T16:05:40.882625Z"
    },
    "papermill": {
     "duration": 1.122812,
     "end_time": "2024-07-27T17:58:29.351459",
     "exception": false,
     "start_time": "2024-07-27T17:58:28.228647",
     "status": "completed"
    },
    "tags": []
   },
   "outputs": [
    {
     "data": {
      "image/png": "[encoded data removed]",
      "text/plain": [
       "<Figure size 1008x360 with 2 Axes>"
      ]
     },
     "metadata": {
      "needs_background": "light"
     },
     "output_type": "display_data"
    }
   ],
   "source": [
    "import matplotlib.pyplot as plt\n",
    "\n",
    "plt.figure(figsize=(14,5))\n",
    "\n",
    "# Plot accuracy\n",
    "plt.subplot(1,2,2)\n",
    "plt.plot(history.history['categorical_accuracy'], label='Train Accuracy')\n",
    "plt.plot(history.history['val_categorical_accuracy'], label='Validation Accuracy')\n",
    "plt.title('Model Accuracy')\n",
    "plt.xlabel('Epochs')\n",
    "plt.ylabel('Accuracy')\n",
    "plt.legend(loc='upper left')\n",
    "\n",
    "# Plot loss\n",
    "plt.subplot(1,2,1)\n",
    "plt.plot(history.history['loss'], label='Train Loss')\n",
    "plt.plot(history.history['val_loss'], label='Validation Loss')\n",
    "plt.title('Model Loss')\n",
    "plt.xlabel('Epochs')\n",
    "plt.ylabel('Loss')\n",
    "plt.legend(loc='upper left')\n",
    "\n",
    "plt.show()\n"
   ]
  },
  {
   "cell_type": "code",
   "execution_count": 28,
   "id": "6bbbb033",
   "metadata": {
    "execution": {
     "iopub.execute_input": "2024-07-27T17:58:30.703292Z",
     "iopub.status.busy": "2024-07-27T17:58:30.702592Z",
     "iopub.status.idle": "2024-07-27T18:04:03.106348Z",
     "shell.execute_reply": "2024-07-27T18:04:03.105688Z",
     "shell.execute_reply.started": "2024-07-27T16:05:51.532259Z"
    },
    "papermill": {
     "duration": 333.083705,
     "end_time": "2024-07-27T18:04:03.106528",
     "exception": false,
     "start_time": "2024-07-27T17:58:30.022823",
     "status": "completed"
    },
    "tags": []
   },
   "outputs": [
    {
     "name": "stdout",
     "output_type": "stream",
     "text": [
      "Confusion Matrix\n",
      "[[ 94  99  94  93 100]\n",
      " [106  95  86 100  93]\n",
      " [ 90 106  94  87 103]\n",
      " [ 96  93  91 101  99]\n",
      " [124  88  79 102  87]]\n",
      "Classification Report\n",
      "              precision    recall  f1-score   support\n",
      "\n",
      "           0       0.18      0.20      0.19       480\n",
      "           1       0.20      0.20      0.20       480\n",
      "           2       0.21      0.20      0.20       480\n",
      "           3       0.21      0.21      0.21       480\n",
      "           4       0.18      0.18      0.18       480\n",
      "\n",
      "    accuracy                           0.20      2400\n",
      "   macro avg       0.20      0.20      0.20      2400\n",
      "weighted avg       0.20      0.20      0.20      2400\n",
      "\n"
     ]
    },
    {
     "data": {
      "image/png": "[encoded data removed]",
      "text/plain": [
       "<Figure size 576x576 with 2 Axes>"
      ]
     },
     "metadata": {
      "needs_background": "light"
     },
     "output_type": "display_data"
    }
   ],
   "source": [
    "y_pred = model.predict(x_train)\n",
    "y_pred = np.argmax(y_pred, axis=1)\n",
    "class_labels = x_test.class_indices\n",
    "class_labels = {v:k for k,v in class_labels.items()}\n",
    "\n",
    "from sklearn.metrics import classification_report, confusion_matrix\n",
    "cm_train = confusion_matrix(x_train.classes, y_pred)\n",
    "print('Confusion Matrix')\n",
    "print(cm_train)\n",
    "print('Classification Report')\n",
    "target_names = list(class_labels.values())\n",
    "print(classification_report(x_train.classes, y_pred, target_names=target_names))\n",
    "\n",
    "plt.figure(figsize=(8,8))\n",
    "plt.imshow(cm_train, interpolation='nearest')\n",
    "plt.colorbar()\n",
    "tick_mark = np.arange(len(target_names))\n",
    "_ = plt.xticks(tick_mark, target_names, rotation=90)\n",
    "_ = plt.yticks(tick_mark, target_names)"
   ]
  },
  {
   "cell_type": "code",
   "execution_count": null,
   "id": "96d17ecd",
   "metadata": {
    "papermill": {
     "duration": 0.723682,
     "end_time": "2024-07-27T18:04:04.524503",
     "exception": false,
     "start_time": "2024-07-27T18:04:03.800821",
     "status": "completed"
    },
    "tags": []
   },
   "outputs": [],
   "source": []
  }
 ],
 "metadata": {
  "kaggle": {
   "accelerator": "gpu",
   "dataSources": [
    {
     "databundleVersionId": 46661,
     "sourceId": 4104,
     "sourceType": "competition"
    },
    {
     "datasetId": 110097,
     "sourceId": 265751,
     "sourceType": "datasetVersion"
    },
    {
     "datasetId": 1366461,
     "sourceId": 2269470,
     "sourceType": "datasetVersion"
    }
   ],
   "dockerImageVersionId": 30163,
   "isGpuEnabled": true,
   "isInternetEnabled": true,
   "language": "python",
   "sourceType": "notebook"
  },
  "kernelspec": {
   "display_name": "Python 3",
   "language": "python",
   "name": "python3"
  },
  "language_info": {
   "codemirror_mode": {
    "name": "ipython",
    "version": 3
   },
   "file_extension": ".py",
   "mimetype": "text/x-python",
   "name": "python",
   "nbconvert_exporter": "python",
   "pygments_lexer": "ipython3",
   "version": "3.7.12"
  },
  "papermill": {
   "default_parameters": {},
   "duration": 6241.52501,
   "end_time": "2024-07-27T18:04:08.312257",
   "environment_variables": {},
   "exception": null,
   "input_path": "__notebook__.ipynb",
   "output_path": "__notebook__.ipynb",
   "parameters": {},
   "start_time": "2024-07-27T16:20:06.787247",
   "version": "2.3.3"
  }
 },
 "nbformat": 4,
 "nbformat_minor": 5
}
